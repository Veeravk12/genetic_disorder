{
 "cells": [
  {
   "cell_type": "markdown",
   "metadata": {},
   "source": [
    "#### dataset that contains medical information about children who have genetic disorders"
   ]
  },
  {
   "cell_type": "code",
   "execution_count": 1,
   "metadata": {},
   "outputs": [],
   "source": [
    "import pandas as pd\n",
    "import numpy as np"
   ]
  },
  {
   "cell_type": "code",
   "execution_count": 2,
   "metadata": {},
   "outputs": [
    {
     "data": {
      "text/html": [
       "<div>\n",
       "<style scoped>\n",
       "    .dataframe tbody tr th:only-of-type {\n",
       "        vertical-align: middle;\n",
       "    }\n",
       "\n",
       "    .dataframe tbody tr th {\n",
       "        vertical-align: top;\n",
       "    }\n",
       "\n",
       "    .dataframe thead th {\n",
       "        text-align: right;\n",
       "    }\n",
       "</style>\n",
       "<table border=\"1\" class=\"dataframe\">\n",
       "  <thead>\n",
       "    <tr style=\"text-align: right;\">\n",
       "      <th></th>\n",
       "      <th>Patient Id</th>\n",
       "      <th>Patient Age</th>\n",
       "      <th>Genes in mother's side</th>\n",
       "      <th>Inherited from father</th>\n",
       "      <th>Maternal gene</th>\n",
       "      <th>Paternal gene</th>\n",
       "      <th>Blood cell count (mcL)</th>\n",
       "      <th>Patient First Name</th>\n",
       "      <th>Family Name</th>\n",
       "      <th>Father's name</th>\n",
       "      <th>...</th>\n",
       "      <th>Birth defects</th>\n",
       "      <th>White Blood cell count (thousand per microliter)</th>\n",
       "      <th>Blood test result</th>\n",
       "      <th>Symptom 1</th>\n",
       "      <th>Symptom 2</th>\n",
       "      <th>Symptom 3</th>\n",
       "      <th>Symptom 4</th>\n",
       "      <th>Symptom 5</th>\n",
       "      <th>Genetic Disorder</th>\n",
       "      <th>Disorder Subclass</th>\n",
       "    </tr>\n",
       "  </thead>\n",
       "  <tbody>\n",
       "    <tr>\n",
       "      <th>0</th>\n",
       "      <td>PID0x4175</td>\n",
       "      <td>6.0</td>\n",
       "      <td>No</td>\n",
       "      <td>Yes</td>\n",
       "      <td>No</td>\n",
       "      <td>No</td>\n",
       "      <td>4.981655</td>\n",
       "      <td>Charles</td>\n",
       "      <td>NaN</td>\n",
       "      <td>Kore</td>\n",
       "      <td>...</td>\n",
       "      <td>Multiple</td>\n",
       "      <td>-99.000000</td>\n",
       "      <td>slightly abnormal</td>\n",
       "      <td>1.0</td>\n",
       "      <td>1.0</td>\n",
       "      <td>1.0</td>\n",
       "      <td>1.0</td>\n",
       "      <td>1.0</td>\n",
       "      <td>NaN</td>\n",
       "      <td>NaN</td>\n",
       "    </tr>\n",
       "    <tr>\n",
       "      <th>1</th>\n",
       "      <td>PID0x21f5</td>\n",
       "      <td>10.0</td>\n",
       "      <td>Yes</td>\n",
       "      <td>No</td>\n",
       "      <td>NaN</td>\n",
       "      <td>Yes</td>\n",
       "      <td>5.118890</td>\n",
       "      <td>Catherine</td>\n",
       "      <td>NaN</td>\n",
       "      <td>Homero</td>\n",
       "      <td>...</td>\n",
       "      <td>Multiple</td>\n",
       "      <td>8.179584</td>\n",
       "      <td>normal</td>\n",
       "      <td>0.0</td>\n",
       "      <td>0.0</td>\n",
       "      <td>0.0</td>\n",
       "      <td>1.0</td>\n",
       "      <td>0.0</td>\n",
       "      <td>NaN</td>\n",
       "      <td>NaN</td>\n",
       "    </tr>\n",
       "    <tr>\n",
       "      <th>2</th>\n",
       "      <td>PID0x49b8</td>\n",
       "      <td>5.0</td>\n",
       "      <td>No</td>\n",
       "      <td>NaN</td>\n",
       "      <td>No</td>\n",
       "      <td>No</td>\n",
       "      <td>4.876204</td>\n",
       "      <td>James</td>\n",
       "      <td>NaN</td>\n",
       "      <td>Danield</td>\n",
       "      <td>...</td>\n",
       "      <td>Singular</td>\n",
       "      <td>-99.000000</td>\n",
       "      <td>slightly abnormal</td>\n",
       "      <td>0.0</td>\n",
       "      <td>0.0</td>\n",
       "      <td>1.0</td>\n",
       "      <td>1.0</td>\n",
       "      <td>0.0</td>\n",
       "      <td>NaN</td>\n",
       "      <td>NaN</td>\n",
       "    </tr>\n",
       "    <tr>\n",
       "      <th>3</th>\n",
       "      <td>PID0x2d97</td>\n",
       "      <td>13.0</td>\n",
       "      <td>No</td>\n",
       "      <td>Yes</td>\n",
       "      <td>Yes</td>\n",
       "      <td>No</td>\n",
       "      <td>4.687767</td>\n",
       "      <td>Brian</td>\n",
       "      <td>NaN</td>\n",
       "      <td>Orville</td>\n",
       "      <td>...</td>\n",
       "      <td>Singular</td>\n",
       "      <td>6.884071</td>\n",
       "      <td>normal</td>\n",
       "      <td>1.0</td>\n",
       "      <td>0.0</td>\n",
       "      <td>1.0</td>\n",
       "      <td>0.0</td>\n",
       "      <td>1.0</td>\n",
       "      <td>NaN</td>\n",
       "      <td>NaN</td>\n",
       "    </tr>\n",
       "    <tr>\n",
       "      <th>4</th>\n",
       "      <td>PID0x58da</td>\n",
       "      <td>5.0</td>\n",
       "      <td>No</td>\n",
       "      <td>NaN</td>\n",
       "      <td>NaN</td>\n",
       "      <td>Yes</td>\n",
       "      <td>5.152362</td>\n",
       "      <td>Gary</td>\n",
       "      <td>NaN</td>\n",
       "      <td>Issiah</td>\n",
       "      <td>...</td>\n",
       "      <td>Multiple</td>\n",
       "      <td>6.195178</td>\n",
       "      <td>normal</td>\n",
       "      <td>1.0</td>\n",
       "      <td>1.0</td>\n",
       "      <td>1.0</td>\n",
       "      <td>1.0</td>\n",
       "      <td>0.0</td>\n",
       "      <td>NaN</td>\n",
       "      <td>NaN</td>\n",
       "    </tr>\n",
       "    <tr>\n",
       "      <th>...</th>\n",
       "      <td>...</td>\n",
       "      <td>...</td>\n",
       "      <td>...</td>\n",
       "      <td>...</td>\n",
       "      <td>...</td>\n",
       "      <td>...</td>\n",
       "      <td>...</td>\n",
       "      <td>...</td>\n",
       "      <td>...</td>\n",
       "      <td>...</td>\n",
       "      <td>...</td>\n",
       "      <td>...</td>\n",
       "      <td>...</td>\n",
       "      <td>...</td>\n",
       "      <td>...</td>\n",
       "      <td>...</td>\n",
       "      <td>...</td>\n",
       "      <td>...</td>\n",
       "      <td>...</td>\n",
       "      <td>...</td>\n",
       "      <td>...</td>\n",
       "    </tr>\n",
       "    <tr>\n",
       "      <th>31543</th>\n",
       "      <td>PID0x5598</td>\n",
       "      <td>4.0</td>\n",
       "      <td>Yes</td>\n",
       "      <td>Yes</td>\n",
       "      <td>Yes</td>\n",
       "      <td>No</td>\n",
       "      <td>5.258298</td>\n",
       "      <td>Lynn</td>\n",
       "      <td>NaN</td>\n",
       "      <td>Alhassane</td>\n",
       "      <td>...</td>\n",
       "      <td>Multiple</td>\n",
       "      <td>6.584811</td>\n",
       "      <td>inconclusive</td>\n",
       "      <td>0.0</td>\n",
       "      <td>0.0</td>\n",
       "      <td>1.0</td>\n",
       "      <td>0.0</td>\n",
       "      <td>0.0</td>\n",
       "      <td>Mitochondrial genetic inheritance disorders</td>\n",
       "      <td>Leigh syndrome</td>\n",
       "    </tr>\n",
       "    <tr>\n",
       "      <th>31544</th>\n",
       "      <td>PID0x19cb</td>\n",
       "      <td>8.0</td>\n",
       "      <td>No</td>\n",
       "      <td>Yes</td>\n",
       "      <td>No</td>\n",
       "      <td>Yes</td>\n",
       "      <td>4.974220</td>\n",
       "      <td>Matthew</td>\n",
       "      <td>Farley</td>\n",
       "      <td>Dartanion</td>\n",
       "      <td>...</td>\n",
       "      <td>Multiple</td>\n",
       "      <td>7.041556</td>\n",
       "      <td>inconclusive</td>\n",
       "      <td>1.0</td>\n",
       "      <td>1.0</td>\n",
       "      <td>1.0</td>\n",
       "      <td>1.0</td>\n",
       "      <td>0.0</td>\n",
       "      <td>Multifactorial genetic inheritance disorders</td>\n",
       "      <td>Diabetes</td>\n",
       "    </tr>\n",
       "    <tr>\n",
       "      <th>31545</th>\n",
       "      <td>PID0x3c4f</td>\n",
       "      <td>8.0</td>\n",
       "      <td>Yes</td>\n",
       "      <td>No</td>\n",
       "      <td>Yes</td>\n",
       "      <td>No</td>\n",
       "      <td>5.186470</td>\n",
       "      <td>John</td>\n",
       "      <td>NaN</td>\n",
       "      <td>Cavani</td>\n",
       "      <td>...</td>\n",
       "      <td>Singular</td>\n",
       "      <td>7.715464</td>\n",
       "      <td>normal</td>\n",
       "      <td>0.0</td>\n",
       "      <td>0.0</td>\n",
       "      <td>0.0</td>\n",
       "      <td>1.0</td>\n",
       "      <td>NaN</td>\n",
       "      <td>Mitochondrial genetic inheritance disorders</td>\n",
       "      <td>Mitochondrial myopathy</td>\n",
       "    </tr>\n",
       "    <tr>\n",
       "      <th>31546</th>\n",
       "      <td>PID0x13a</td>\n",
       "      <td>7.0</td>\n",
       "      <td>Yes</td>\n",
       "      <td>No</td>\n",
       "      <td>Yes</td>\n",
       "      <td>Yes</td>\n",
       "      <td>4.858543</td>\n",
       "      <td>Sharon</td>\n",
       "      <td>NaN</td>\n",
       "      <td>Bomer</td>\n",
       "      <td>...</td>\n",
       "      <td>Multiple</td>\n",
       "      <td>8.437670</td>\n",
       "      <td>abnormal</td>\n",
       "      <td>1.0</td>\n",
       "      <td>1.0</td>\n",
       "      <td>1.0</td>\n",
       "      <td>0.0</td>\n",
       "      <td>0.0</td>\n",
       "      <td>NaN</td>\n",
       "      <td>Leigh syndrome</td>\n",
       "    </tr>\n",
       "    <tr>\n",
       "      <th>31547</th>\n",
       "      <td>PID0x9332</td>\n",
       "      <td>11.0</td>\n",
       "      <td>Yes</td>\n",
       "      <td>No</td>\n",
       "      <td>No</td>\n",
       "      <td>No</td>\n",
       "      <td>4.738067</td>\n",
       "      <td>Andrew</td>\n",
       "      <td>Mose</td>\n",
       "      <td>Eban</td>\n",
       "      <td>...</td>\n",
       "      <td>Singular</td>\n",
       "      <td>11.188371</td>\n",
       "      <td>normal</td>\n",
       "      <td>1.0</td>\n",
       "      <td>0.0</td>\n",
       "      <td>1.0</td>\n",
       "      <td>1.0</td>\n",
       "      <td>1.0</td>\n",
       "      <td>Multifactorial genetic inheritance disorders</td>\n",
       "      <td>Diabetes</td>\n",
       "    </tr>\n",
       "  </tbody>\n",
       "</table>\n",
       "<p>31548 rows × 45 columns</p>\n",
       "</div>"
      ],
      "text/plain": [
       "      Patient Id  Patient Age Genes in mother's side Inherited from father  \\\n",
       "0      PID0x4175          6.0                     No                   Yes   \n",
       "1      PID0x21f5         10.0                    Yes                    No   \n",
       "2      PID0x49b8          5.0                     No                   NaN   \n",
       "3      PID0x2d97         13.0                     No                   Yes   \n",
       "4      PID0x58da          5.0                     No                   NaN   \n",
       "...          ...          ...                    ...                   ...   \n",
       "31543  PID0x5598          4.0                    Yes                   Yes   \n",
       "31544  PID0x19cb          8.0                     No                   Yes   \n",
       "31545  PID0x3c4f          8.0                    Yes                    No   \n",
       "31546   PID0x13a          7.0                    Yes                    No   \n",
       "31547  PID0x9332         11.0                    Yes                    No   \n",
       "\n",
       "      Maternal gene Paternal gene  Blood cell count (mcL) Patient First Name  \\\n",
       "0                No            No                4.981655            Charles   \n",
       "1               NaN           Yes                5.118890          Catherine   \n",
       "2                No            No                4.876204              James   \n",
       "3               Yes            No                4.687767              Brian   \n",
       "4               NaN           Yes                5.152362               Gary   \n",
       "...             ...           ...                     ...                ...   \n",
       "31543           Yes            No                5.258298               Lynn   \n",
       "31544            No           Yes                4.974220            Matthew   \n",
       "31545           Yes            No                5.186470               John   \n",
       "31546           Yes           Yes                4.858543             Sharon   \n",
       "31547            No            No                4.738067             Andrew   \n",
       "\n",
       "      Family Name Father's name  ...  Birth defects  \\\n",
       "0             NaN          Kore  ...       Multiple   \n",
       "1             NaN        Homero  ...       Multiple   \n",
       "2             NaN       Danield  ...       Singular   \n",
       "3             NaN       Orville  ...       Singular   \n",
       "4             NaN        Issiah  ...       Multiple   \n",
       "...           ...           ...  ...            ...   \n",
       "31543         NaN     Alhassane  ...       Multiple   \n",
       "31544      Farley     Dartanion  ...       Multiple   \n",
       "31545         NaN        Cavani  ...       Singular   \n",
       "31546         NaN         Bomer  ...       Multiple   \n",
       "31547        Mose          Eban  ...       Singular   \n",
       "\n",
       "       White Blood cell count (thousand per microliter)  Blood test result  \\\n",
       "0                                            -99.000000  slightly abnormal   \n",
       "1                                              8.179584             normal   \n",
       "2                                            -99.000000  slightly abnormal   \n",
       "3                                              6.884071             normal   \n",
       "4                                              6.195178             normal   \n",
       "...                                                 ...                ...   \n",
       "31543                                          6.584811       inconclusive   \n",
       "31544                                          7.041556       inconclusive   \n",
       "31545                                          7.715464             normal   \n",
       "31546                                          8.437670           abnormal   \n",
       "31547                                         11.188371             normal   \n",
       "\n",
       "      Symptom 1 Symptom 2 Symptom 3 Symptom 4  Symptom 5  \\\n",
       "0           1.0       1.0       1.0       1.0        1.0   \n",
       "1           0.0       0.0       0.0       1.0        0.0   \n",
       "2           0.0       0.0       1.0       1.0        0.0   \n",
       "3           1.0       0.0       1.0       0.0        1.0   \n",
       "4           1.0       1.0       1.0       1.0        0.0   \n",
       "...         ...       ...       ...       ...        ...   \n",
       "31543       0.0       0.0       1.0       0.0        0.0   \n",
       "31544       1.0       1.0       1.0       1.0        0.0   \n",
       "31545       0.0       0.0       0.0       1.0        NaN   \n",
       "31546       1.0       1.0       1.0       0.0        0.0   \n",
       "31547       1.0       0.0       1.0       1.0        1.0   \n",
       "\n",
       "                                   Genetic Disorder       Disorder Subclass  \n",
       "0                                               NaN                     NaN  \n",
       "1                                               NaN                     NaN  \n",
       "2                                               NaN                     NaN  \n",
       "3                                               NaN                     NaN  \n",
       "4                                               NaN                     NaN  \n",
       "...                                             ...                     ...  \n",
       "31543   Mitochondrial genetic inheritance disorders          Leigh syndrome  \n",
       "31544  Multifactorial genetic inheritance disorders                Diabetes  \n",
       "31545   Mitochondrial genetic inheritance disorders  Mitochondrial myopathy  \n",
       "31546                                           NaN          Leigh syndrome  \n",
       "31547  Multifactorial genetic inheritance disorders                Diabetes  \n",
       "\n",
       "[31548 rows x 45 columns]"
      ]
     },
     "execution_count": 2,
     "metadata": {},
     "output_type": "execute_result"
    }
   ],
   "source": [
    "#combine the train and test datsets\n",
    "#Load the train and test datasets\n",
    "train = pd.read_csv(\"/workspaces/genetic_disorder/data/test.csv\")\n",
    "test = pd.read_csv(\"/workspaces/genetic_disorder/data/train.csv\")\n",
    "\n",
    "# Concatenate the DataFrames\n",
    "df = pd.concat([train, test], axis=0, ignore_index=True)\n",
    "df"
   ]
  },
  {
   "cell_type": "code",
   "execution_count": 3,
   "metadata": {},
   "outputs": [
    {
     "name": "stdout",
     "output_type": "stream",
     "text": [
      "[nan 'Mitochondrial genetic inheritance disorders'\n",
      " 'Multifactorial genetic inheritance disorders'\n",
      " 'Single-gene inheritance diseases']\n",
      "[nan \"Leber's hereditary optic neuropathy\" 'Cystic fibrosis' 'Diabetes'\n",
      " 'Leigh syndrome' 'Cancer' 'Tay-Sachs' 'Hemochromatosis'\n",
      " 'Mitochondrial myopathy' \"Alzheimer's\"]\n"
     ]
    }
   ],
   "source": [
    "print(df[\"Genetic Disorder\"].unique())\n",
    "print(df[\"Disorder Subclass\"].unique())"
   ]
  },
  {
   "cell_type": "code",
   "execution_count": 4,
   "metadata": {},
   "outputs": [
    {
     "data": {
      "text/plain": [
       "45"
      ]
     },
     "execution_count": 4,
     "metadata": {},
     "output_type": "execute_result"
    }
   ],
   "source": [
    "col_count =len(list(df.columns))\n",
    "col_count"
   ]
  },
  {
   "cell_type": "code",
   "execution_count": 5,
   "metadata": {},
   "outputs": [
    {
     "data": {
      "text/html": [
       "<div>\n",
       "<style scoped>\n",
       "    .dataframe tbody tr th:only-of-type {\n",
       "        vertical-align: middle;\n",
       "    }\n",
       "\n",
       "    .dataframe tbody tr th {\n",
       "        vertical-align: top;\n",
       "    }\n",
       "\n",
       "    .dataframe thead th {\n",
       "        text-align: right;\n",
       "    }\n",
       "</style>\n",
       "<table border=\"1\" class=\"dataframe\">\n",
       "  <thead>\n",
       "    <tr style=\"text-align: right;\">\n",
       "      <th></th>\n",
       "      <th>Patient Age</th>\n",
       "      <th>Blood cell count (mcL)</th>\n",
       "      <th>Mother's age</th>\n",
       "      <th>Father's age</th>\n",
       "      <th>Test 1</th>\n",
       "      <th>Test 2</th>\n",
       "      <th>Test 3</th>\n",
       "      <th>Test 4</th>\n",
       "      <th>Test 5</th>\n",
       "      <th>No. of previous abortion</th>\n",
       "      <th>White Blood cell count (thousand per microliter)</th>\n",
       "    </tr>\n",
       "  </thead>\n",
       "  <tbody>\n",
       "    <tr>\n",
       "      <th>count</th>\n",
       "      <td>30121.000000</td>\n",
       "      <td>31548.000000</td>\n",
       "      <td>25512.000000</td>\n",
       "      <td>25562.000000</td>\n",
       "      <td>29421.000000</td>\n",
       "      <td>29396.000000</td>\n",
       "      <td>29401.000000</td>\n",
       "      <td>29408.000000</td>\n",
       "      <td>29378.000000</td>\n",
       "      <td>29386.000000</td>\n",
       "      <td>29400.000000</td>\n",
       "    </tr>\n",
       "    <tr>\n",
       "      <th>mean</th>\n",
       "      <td>6.995418</td>\n",
       "      <td>4.899272</td>\n",
       "      <td>34.544646</td>\n",
       "      <td>41.920233</td>\n",
       "      <td>-7.133680</td>\n",
       "      <td>-7.008403</td>\n",
       "      <td>-7.067821</td>\n",
       "      <td>-6.079706</td>\n",
       "      <td>-7.046395</td>\n",
       "      <td>-5.197611</td>\n",
       "      <td>-0.125003</td>\n",
       "    </tr>\n",
       "    <tr>\n",
       "      <th>std</th>\n",
       "      <td>4.325345</td>\n",
       "      <td>0.199510</td>\n",
       "      <td>9.845861</td>\n",
       "      <td>13.037442</td>\n",
       "      <td>25.600141</td>\n",
       "      <td>25.391654</td>\n",
       "      <td>25.490827</td>\n",
       "      <td>25.648991</td>\n",
       "      <td>25.455127</td>\n",
       "      <td>26.032054</td>\n",
       "      <td>27.556479</td>\n",
       "    </tr>\n",
       "    <tr>\n",
       "      <th>min</th>\n",
       "      <td>0.000000</td>\n",
       "      <td>4.092727</td>\n",
       "      <td>18.000000</td>\n",
       "      <td>20.000000</td>\n",
       "      <td>-99.000000</td>\n",
       "      <td>-99.000000</td>\n",
       "      <td>-99.000000</td>\n",
       "      <td>-99.000000</td>\n",
       "      <td>-99.000000</td>\n",
       "      <td>-99.000000</td>\n",
       "      <td>-99.000000</td>\n",
       "    </tr>\n",
       "    <tr>\n",
       "      <th>25%</th>\n",
       "      <td>3.000000</td>\n",
       "      <td>4.763948</td>\n",
       "      <td>26.000000</td>\n",
       "      <td>30.000000</td>\n",
       "      <td>0.000000</td>\n",
       "      <td>0.000000</td>\n",
       "      <td>0.000000</td>\n",
       "      <td>1.000000</td>\n",
       "      <td>0.000000</td>\n",
       "      <td>0.000000</td>\n",
       "      <td>4.861915</td>\n",
       "    </tr>\n",
       "    <tr>\n",
       "      <th>50%</th>\n",
       "      <td>7.000000</td>\n",
       "      <td>4.899315</td>\n",
       "      <td>35.000000</td>\n",
       "      <td>42.000000</td>\n",
       "      <td>0.000000</td>\n",
       "      <td>0.000000</td>\n",
       "      <td>0.000000</td>\n",
       "      <td>1.000000</td>\n",
       "      <td>0.000000</td>\n",
       "      <td>2.000000</td>\n",
       "      <td>7.183280</td>\n",
       "    </tr>\n",
       "    <tr>\n",
       "      <th>75%</th>\n",
       "      <td>11.000000</td>\n",
       "      <td>5.033619</td>\n",
       "      <td>43.000000</td>\n",
       "      <td>53.000000</td>\n",
       "      <td>0.000000</td>\n",
       "      <td>0.000000</td>\n",
       "      <td>0.000000</td>\n",
       "      <td>1.000000</td>\n",
       "      <td>0.000000</td>\n",
       "      <td>3.000000</td>\n",
       "      <td>9.355955</td>\n",
       "    </tr>\n",
       "    <tr>\n",
       "      <th>max</th>\n",
       "      <td>14.000000</td>\n",
       "      <td>5.676184</td>\n",
       "      <td>51.000000</td>\n",
       "      <td>64.000000</td>\n",
       "      <td>0.000000</td>\n",
       "      <td>0.000000</td>\n",
       "      <td>0.000000</td>\n",
       "      <td>1.000000</td>\n",
       "      <td>0.000000</td>\n",
       "      <td>4.000000</td>\n",
       "      <td>12.000000</td>\n",
       "    </tr>\n",
       "  </tbody>\n",
       "</table>\n",
       "</div>"
      ],
      "text/plain": [
       "        Patient Age  Blood cell count (mcL)  Mother's age  Father's age  \\\n",
       "count  30121.000000            31548.000000  25512.000000  25562.000000   \n",
       "mean       6.995418                4.899272     34.544646     41.920233   \n",
       "std        4.325345                0.199510      9.845861     13.037442   \n",
       "min        0.000000                4.092727     18.000000     20.000000   \n",
       "25%        3.000000                4.763948     26.000000     30.000000   \n",
       "50%        7.000000                4.899315     35.000000     42.000000   \n",
       "75%       11.000000                5.033619     43.000000     53.000000   \n",
       "max       14.000000                5.676184     51.000000     64.000000   \n",
       "\n",
       "             Test 1        Test 2        Test 3        Test 4        Test 5  \\\n",
       "count  29421.000000  29396.000000  29401.000000  29408.000000  29378.000000   \n",
       "mean      -7.133680     -7.008403     -7.067821     -6.079706     -7.046395   \n",
       "std       25.600141     25.391654     25.490827     25.648991     25.455127   \n",
       "min      -99.000000    -99.000000    -99.000000    -99.000000    -99.000000   \n",
       "25%        0.000000      0.000000      0.000000      1.000000      0.000000   \n",
       "50%        0.000000      0.000000      0.000000      1.000000      0.000000   \n",
       "75%        0.000000      0.000000      0.000000      1.000000      0.000000   \n",
       "max        0.000000      0.000000      0.000000      1.000000      0.000000   \n",
       "\n",
       "       No. of previous abortion  \\\n",
       "count              29386.000000   \n",
       "mean                  -5.197611   \n",
       "std                   26.032054   \n",
       "min                  -99.000000   \n",
       "25%                    0.000000   \n",
       "50%                    2.000000   \n",
       "75%                    3.000000   \n",
       "max                    4.000000   \n",
       "\n",
       "       White Blood cell count (thousand per microliter)  \n",
       "count                                      29400.000000  \n",
       "mean                                          -0.125003  \n",
       "std                                           27.556479  \n",
       "min                                          -99.000000  \n",
       "25%                                            4.861915  \n",
       "50%                                            7.183280  \n",
       "75%                                            9.355955  \n",
       "max                                           12.000000  "
      ]
     },
     "execution_count": 5,
     "metadata": {},
     "output_type": "execute_result"
    }
   ],
   "source": [
    "df.describe()"
   ]
  },
  {
   "cell_type": "code",
   "execution_count": 6,
   "metadata": {},
   "outputs": [
    {
     "data": {
      "text/plain": [
       "39"
      ]
     },
     "execution_count": 6,
     "metadata": {},
     "output_type": "execute_result"
    }
   ],
   "source": [
    "#removing the irrelevant features\n",
    "df.drop(columns=['Patient Id', 'Patient First Name', 'Family Name', \"Father's name\", 'Institute Name', 'Location of Institute'], inplace=True)\n",
    "col_count =len(list(df.columns))\n",
    "col_count \n"
   ]
  },
  {
   "cell_type": "code",
   "execution_count": 7,
   "metadata": {},
   "outputs": [
    {
     "name": "stdout",
     "output_type": "stream",
     "text": [
      "Patient Age                                          4.523266\n",
      "Genes in mother's side                               0.000000\n",
      "Inherited from father                                2.716495\n",
      "Maternal gene                                       20.708127\n",
      "Paternal gene                                        0.000000\n",
      "Blood cell count (mcL)                               0.000000\n",
      "Mother's age                                        19.132750\n",
      "Father's age                                        18.974261\n",
      "Status                                               0.000000\n",
      "Respiratory Rate (breaths/min)                      15.959807\n",
      "Heart Rate (rates/min                               15.890072\n",
      "Test 1                                               6.742107\n",
      "Test 2                                               6.821352\n",
      "Test 3                                               6.805503\n",
      "Test 4                                               6.783314\n",
      "Test 5                                               6.878408\n",
      "Parental consent                                     6.735768\n",
      "Follow-up                                            6.865728\n",
      "Gender                                               6.887917\n",
      "Birth asphyxia                                       6.780145\n",
      "Autopsy shows birth defect (if applicable)          17.725371\n",
      "Place of birth                                       6.732598\n",
      "Folic acid details (peri-conceptional)               6.710410\n",
      "H/O serious maternal illness                         6.821352\n",
      "H/O radiation exposure (x-ray)                       6.824521\n",
      "H/O substance abuse                                  6.957652\n",
      "Assisted conception IVF/ART                          6.726258\n",
      "History of anomalies in previous pregnancies         6.884747\n",
      "No. of previous abortion                             6.853049\n",
      "Birth defects                                        6.827691\n",
      "White Blood cell count (thousand per microliter)     6.808672\n",
      "Blood test result                                    6.799163\n",
      "Symptom 1                                            6.830861\n",
      "Symptom 2                                            7.043236\n",
      "Symptom 3                                            6.659693\n",
      "Symptom 4                                            6.697730\n",
      "Symptom 5                                            6.824521\n",
      "Genetic Disorder                                    36.804235\n",
      "Disorder Subclass                                   36.873970\n",
      "dtype: float64\n"
     ]
    }
   ],
   "source": [
    "# checking the null values\n",
    "\n",
    "missing_percentage = df.isnull().mean() * 100\n",
    "print(missing_percentage)\n"
   ]
  },
  {
   "cell_type": "code",
   "execution_count": 8,
   "metadata": {},
   "outputs": [
    {
     "name": "stdout",
     "output_type": "stream",
     "text": [
      "Disorder Subclass                             36.873970\n",
      "Genetic Disorder                              36.804235\n",
      "Maternal gene                                 20.708127\n",
      "Mother's age                                  19.132750\n",
      "Father's age                                  18.974261\n",
      "Autopsy shows birth defect (if applicable)    17.725371\n",
      "Respiratory Rate (breaths/min)                15.959807\n",
      "Heart Rate (rates/min                         15.890072\n",
      "Symptom 2                                      7.043236\n",
      "H/O substance abuse                            6.957652\n",
      "dtype: float64\n"
     ]
    }
   ],
   "source": [
    "# Getting the top 5 columns with the highest percentage of missing values\n",
    "top_10_missing = missing_percentage.nlargest(10)\n",
    "\n",
    "# the result\n",
    "print(top_10_missing)"
   ]
  },
  {
   "cell_type": "markdown",
   "metadata": {},
   "source": [
    "Based on the above missing value percentages.\n",
    "\n",
    "As per the above observations:\n",
    "\n",
    "- Many columns have missing values ranging from approximately **0% to almost 28%**.\n",
    "- Some columns with higher percentages of missing values are:\n",
    "  - Disorder Subclass                             36.87%\n",
    "  - Genetic Disorder                              36.80%\n",
    "  - Maternal gene                                 20.71%\n",
    "  - Mother's age                                  19.13%\n",
    "  - Father's age                                  18.97%\n",
    "  - Autopsy shows birth defect (if applicable)    17.73%\n",
    "  - Respiratory Rate (breaths/min)                15.96%\n",
    "  - Heart Rate (rates/min                         15.89%\n",
    "  - Symptom 2                                      7.04%\n",
    "  - H/O substance abuse                            6.96%\n"
   ]
  },
  {
   "cell_type": "markdown",
   "metadata": {},
   "source": [
    "I am considering to drop the target variables rows Disorder Subclass(36.87%),Genetic Disorder(36.80%)\n",
    "\n",
    "These are having high percentage of missing values and need to dropped.\n",
    "\n",
    "Trying to impute missing values using appropriate methods (mean, median, mode) depending on the type of data (numerical or categorical).\n",
    "\n",
    "For handling the type of data following approches will be used.\n",
    "\n",
    "- Numerical Columns: will use mean or median.\n",
    "- Categorical Columns: will use mode."
   ]
  },
  {
   "cell_type": "markdown",
   "metadata": {},
   "source": [
    "checking the nuul values after dropping the vaues of target columns"
   ]
  },
  {
   "cell_type": "code",
   "execution_count": 9,
   "metadata": {},
   "outputs": [],
   "source": [
    "#dropping the rows from the target variables rows having null values\n",
    "df = df.dropna(subset=['Disorder Subclass', 'Genetic Disorder'])\n",
    "\n",
    "# Reset the index\n",
    "df = df.reset_index(drop=True)"
   ]
  },
  {
   "cell_type": "code",
   "execution_count": 18,
   "metadata": {},
   "outputs": [
    {
     "data": {
      "text/html": [
       "<div>\n",
       "<style scoped>\n",
       "    .dataframe tbody tr th:only-of-type {\n",
       "        vertical-align: middle;\n",
       "    }\n",
       "\n",
       "    .dataframe tbody tr th {\n",
       "        vertical-align: top;\n",
       "    }\n",
       "\n",
       "    .dataframe thead th {\n",
       "        text-align: right;\n",
       "    }\n",
       "</style>\n",
       "<table border=\"1\" class=\"dataframe\">\n",
       "  <thead>\n",
       "    <tr style=\"text-align: right;\">\n",
       "      <th></th>\n",
       "      <th>Patient Age</th>\n",
       "      <th>Genes in mother's side</th>\n",
       "      <th>Inherited from father</th>\n",
       "      <th>Maternal gene</th>\n",
       "      <th>Paternal gene</th>\n",
       "      <th>Blood cell count (mcL)</th>\n",
       "      <th>Mother's age</th>\n",
       "      <th>Father's age</th>\n",
       "      <th>Status</th>\n",
       "      <th>Respiratory Rate (breaths/min)</th>\n",
       "      <th>...</th>\n",
       "      <th>Birth defects</th>\n",
       "      <th>White Blood cell count (thousand per microliter)</th>\n",
       "      <th>Blood test result</th>\n",
       "      <th>Symptom 1</th>\n",
       "      <th>Symptom 2</th>\n",
       "      <th>Symptom 3</th>\n",
       "      <th>Symptom 4</th>\n",
       "      <th>Symptom 5</th>\n",
       "      <th>Genetic Disorder</th>\n",
       "      <th>Disorder Subclass</th>\n",
       "    </tr>\n",
       "  </thead>\n",
       "  <tbody>\n",
       "    <tr>\n",
       "      <th>0</th>\n",
       "      <td>2.0</td>\n",
       "      <td>Yes</td>\n",
       "      <td>No</td>\n",
       "      <td>Yes</td>\n",
       "      <td>No</td>\n",
       "      <td>4.760603</td>\n",
       "      <td>NaN</td>\n",
       "      <td>NaN</td>\n",
       "      <td>Alive</td>\n",
       "      <td>Normal (30-60)</td>\n",
       "      <td>...</td>\n",
       "      <td>NaN</td>\n",
       "      <td>9.857562</td>\n",
       "      <td>NaN</td>\n",
       "      <td>1.0</td>\n",
       "      <td>1.0</td>\n",
       "      <td>1.0</td>\n",
       "      <td>1.0</td>\n",
       "      <td>1.0</td>\n",
       "      <td>Mitochondrial genetic inheritance disorders</td>\n",
       "      <td>Leber's hereditary optic neuropathy</td>\n",
       "    </tr>\n",
       "    <tr>\n",
       "      <th>1</th>\n",
       "      <td>6.0</td>\n",
       "      <td>Yes</td>\n",
       "      <td>No</td>\n",
       "      <td>No</td>\n",
       "      <td>No</td>\n",
       "      <td>4.893297</td>\n",
       "      <td>41.0</td>\n",
       "      <td>22.0</td>\n",
       "      <td>Alive</td>\n",
       "      <td>Normal (30-60)</td>\n",
       "      <td>...</td>\n",
       "      <td>Singular</td>\n",
       "      <td>NaN</td>\n",
       "      <td>normal</td>\n",
       "      <td>0.0</td>\n",
       "      <td>1.0</td>\n",
       "      <td>1.0</td>\n",
       "      <td>1.0</td>\n",
       "      <td>1.0</td>\n",
       "      <td>Multifactorial genetic inheritance disorders</td>\n",
       "      <td>Diabetes</td>\n",
       "    </tr>\n",
       "    <tr>\n",
       "      <th>2</th>\n",
       "      <td>12.0</td>\n",
       "      <td>Yes</td>\n",
       "      <td>No</td>\n",
       "      <td>Yes</td>\n",
       "      <td>No</td>\n",
       "      <td>4.705280</td>\n",
       "      <td>21.0</td>\n",
       "      <td>NaN</td>\n",
       "      <td>Deceased</td>\n",
       "      <td>Tachypnea</td>\n",
       "      <td>...</td>\n",
       "      <td>Singular</td>\n",
       "      <td>7.919321</td>\n",
       "      <td>inconclusive</td>\n",
       "      <td>0.0</td>\n",
       "      <td>0.0</td>\n",
       "      <td>1.0</td>\n",
       "      <td>0.0</td>\n",
       "      <td>0.0</td>\n",
       "      <td>Mitochondrial genetic inheritance disorders</td>\n",
       "      <td>Leigh syndrome</td>\n",
       "    </tr>\n",
       "    <tr>\n",
       "      <th>3</th>\n",
       "      <td>11.0</td>\n",
       "      <td>Yes</td>\n",
       "      <td>No</td>\n",
       "      <td>NaN</td>\n",
       "      <td>Yes</td>\n",
       "      <td>4.720703</td>\n",
       "      <td>32.0</td>\n",
       "      <td>NaN</td>\n",
       "      <td>Alive</td>\n",
       "      <td>Tachypnea</td>\n",
       "      <td>...</td>\n",
       "      <td>Multiple</td>\n",
       "      <td>4.098210</td>\n",
       "      <td>NaN</td>\n",
       "      <td>0.0</td>\n",
       "      <td>0.0</td>\n",
       "      <td>0.0</td>\n",
       "      <td>0.0</td>\n",
       "      <td>NaN</td>\n",
       "      <td>Multifactorial genetic inheritance disorders</td>\n",
       "      <td>Cancer</td>\n",
       "    </tr>\n",
       "    <tr>\n",
       "      <th>4</th>\n",
       "      <td>14.0</td>\n",
       "      <td>Yes</td>\n",
       "      <td>No</td>\n",
       "      <td>Yes</td>\n",
       "      <td>No</td>\n",
       "      <td>5.103188</td>\n",
       "      <td>NaN</td>\n",
       "      <td>NaN</td>\n",
       "      <td>Deceased</td>\n",
       "      <td>NaN</td>\n",
       "      <td>...</td>\n",
       "      <td>Multiple</td>\n",
       "      <td>10.272230</td>\n",
       "      <td>normal</td>\n",
       "      <td>1.0</td>\n",
       "      <td>0.0</td>\n",
       "      <td>0.0</td>\n",
       "      <td>1.0</td>\n",
       "      <td>0.0</td>\n",
       "      <td>Single-gene inheritance diseases</td>\n",
       "      <td>Cystic fibrosis</td>\n",
       "    </tr>\n",
       "    <tr>\n",
       "      <th>...</th>\n",
       "      <td>...</td>\n",
       "      <td>...</td>\n",
       "      <td>...</td>\n",
       "      <td>...</td>\n",
       "      <td>...</td>\n",
       "      <td>...</td>\n",
       "      <td>...</td>\n",
       "      <td>...</td>\n",
       "      <td>...</td>\n",
       "      <td>...</td>\n",
       "      <td>...</td>\n",
       "      <td>...</td>\n",
       "      <td>...</td>\n",
       "      <td>...</td>\n",
       "      <td>...</td>\n",
       "      <td>...</td>\n",
       "      <td>...</td>\n",
       "      <td>...</td>\n",
       "      <td>...</td>\n",
       "      <td>...</td>\n",
       "      <td>...</td>\n",
       "    </tr>\n",
       "    <tr>\n",
       "      <th>18042</th>\n",
       "      <td>9.0</td>\n",
       "      <td>No</td>\n",
       "      <td>Yes</td>\n",
       "      <td>Yes</td>\n",
       "      <td>Yes</td>\n",
       "      <td>5.012599</td>\n",
       "      <td>47.0</td>\n",
       "      <td>NaN</td>\n",
       "      <td>Deceased</td>\n",
       "      <td>NaN</td>\n",
       "      <td>...</td>\n",
       "      <td>NaN</td>\n",
       "      <td>12.000000</td>\n",
       "      <td>slightly abnormal</td>\n",
       "      <td>NaN</td>\n",
       "      <td>1.0</td>\n",
       "      <td>0.0</td>\n",
       "      <td>0.0</td>\n",
       "      <td>0.0</td>\n",
       "      <td>Mitochondrial genetic inheritance disorders</td>\n",
       "      <td>Leigh syndrome</td>\n",
       "    </tr>\n",
       "    <tr>\n",
       "      <th>18043</th>\n",
       "      <td>4.0</td>\n",
       "      <td>Yes</td>\n",
       "      <td>Yes</td>\n",
       "      <td>Yes</td>\n",
       "      <td>No</td>\n",
       "      <td>5.258298</td>\n",
       "      <td>35.0</td>\n",
       "      <td>64.0</td>\n",
       "      <td>Deceased</td>\n",
       "      <td>Normal (30-60)</td>\n",
       "      <td>...</td>\n",
       "      <td>Multiple</td>\n",
       "      <td>6.584811</td>\n",
       "      <td>inconclusive</td>\n",
       "      <td>0.0</td>\n",
       "      <td>0.0</td>\n",
       "      <td>1.0</td>\n",
       "      <td>0.0</td>\n",
       "      <td>0.0</td>\n",
       "      <td>Mitochondrial genetic inheritance disorders</td>\n",
       "      <td>Leigh syndrome</td>\n",
       "    </tr>\n",
       "    <tr>\n",
       "      <th>18044</th>\n",
       "      <td>8.0</td>\n",
       "      <td>No</td>\n",
       "      <td>Yes</td>\n",
       "      <td>No</td>\n",
       "      <td>Yes</td>\n",
       "      <td>4.974220</td>\n",
       "      <td>NaN</td>\n",
       "      <td>56.0</td>\n",
       "      <td>Alive</td>\n",
       "      <td>Normal (30-60)</td>\n",
       "      <td>...</td>\n",
       "      <td>Multiple</td>\n",
       "      <td>7.041556</td>\n",
       "      <td>inconclusive</td>\n",
       "      <td>1.0</td>\n",
       "      <td>1.0</td>\n",
       "      <td>1.0</td>\n",
       "      <td>1.0</td>\n",
       "      <td>0.0</td>\n",
       "      <td>Multifactorial genetic inheritance disorders</td>\n",
       "      <td>Diabetes</td>\n",
       "    </tr>\n",
       "    <tr>\n",
       "      <th>18045</th>\n",
       "      <td>8.0</td>\n",
       "      <td>Yes</td>\n",
       "      <td>No</td>\n",
       "      <td>Yes</td>\n",
       "      <td>No</td>\n",
       "      <td>5.186470</td>\n",
       "      <td>35.0</td>\n",
       "      <td>51.0</td>\n",
       "      <td>Deceased</td>\n",
       "      <td>Tachypnea</td>\n",
       "      <td>...</td>\n",
       "      <td>Singular</td>\n",
       "      <td>7.715464</td>\n",
       "      <td>normal</td>\n",
       "      <td>0.0</td>\n",
       "      <td>0.0</td>\n",
       "      <td>0.0</td>\n",
       "      <td>1.0</td>\n",
       "      <td>NaN</td>\n",
       "      <td>Mitochondrial genetic inheritance disorders</td>\n",
       "      <td>Mitochondrial myopathy</td>\n",
       "    </tr>\n",
       "    <tr>\n",
       "      <th>18046</th>\n",
       "      <td>11.0</td>\n",
       "      <td>Yes</td>\n",
       "      <td>No</td>\n",
       "      <td>No</td>\n",
       "      <td>No</td>\n",
       "      <td>4.738067</td>\n",
       "      <td>32.0</td>\n",
       "      <td>62.0</td>\n",
       "      <td>Deceased</td>\n",
       "      <td>Normal (30-60)</td>\n",
       "      <td>...</td>\n",
       "      <td>Singular</td>\n",
       "      <td>11.188371</td>\n",
       "      <td>normal</td>\n",
       "      <td>1.0</td>\n",
       "      <td>0.0</td>\n",
       "      <td>1.0</td>\n",
       "      <td>1.0</td>\n",
       "      <td>1.0</td>\n",
       "      <td>Multifactorial genetic inheritance disorders</td>\n",
       "      <td>Diabetes</td>\n",
       "    </tr>\n",
       "  </tbody>\n",
       "</table>\n",
       "<p>18047 rows × 39 columns</p>\n",
       "</div>"
      ],
      "text/plain": [
       "       Patient Age Genes in mother's side Inherited from father Maternal gene  \\\n",
       "0              2.0                    Yes                    No           Yes   \n",
       "1              6.0                    Yes                    No            No   \n",
       "2             12.0                    Yes                    No           Yes   \n",
       "3             11.0                    Yes                    No           NaN   \n",
       "4             14.0                    Yes                    No           Yes   \n",
       "...            ...                    ...                   ...           ...   \n",
       "18042          9.0                     No                   Yes           Yes   \n",
       "18043          4.0                    Yes                   Yes           Yes   \n",
       "18044          8.0                     No                   Yes            No   \n",
       "18045          8.0                    Yes                    No           Yes   \n",
       "18046         11.0                    Yes                    No            No   \n",
       "\n",
       "      Paternal gene  Blood cell count (mcL)  Mother's age  Father's age  \\\n",
       "0                No                4.760603           NaN           NaN   \n",
       "1                No                4.893297          41.0          22.0   \n",
       "2                No                4.705280          21.0           NaN   \n",
       "3               Yes                4.720703          32.0           NaN   \n",
       "4                No                5.103188           NaN           NaN   \n",
       "...             ...                     ...           ...           ...   \n",
       "18042           Yes                5.012599          47.0           NaN   \n",
       "18043            No                5.258298          35.0          64.0   \n",
       "18044           Yes                4.974220           NaN          56.0   \n",
       "18045            No                5.186470          35.0          51.0   \n",
       "18046            No                4.738067          32.0          62.0   \n",
       "\n",
       "         Status Respiratory Rate (breaths/min)  ... Birth defects  \\\n",
       "0         Alive                 Normal (30-60)  ...           NaN   \n",
       "1         Alive                 Normal (30-60)  ...      Singular   \n",
       "2      Deceased                      Tachypnea  ...      Singular   \n",
       "3         Alive                      Tachypnea  ...      Multiple   \n",
       "4      Deceased                            NaN  ...      Multiple   \n",
       "...         ...                            ...  ...           ...   \n",
       "18042  Deceased                            NaN  ...           NaN   \n",
       "18043  Deceased                 Normal (30-60)  ...      Multiple   \n",
       "18044     Alive                 Normal (30-60)  ...      Multiple   \n",
       "18045  Deceased                      Tachypnea  ...      Singular   \n",
       "18046  Deceased                 Normal (30-60)  ...      Singular   \n",
       "\n",
       "       White Blood cell count (thousand per microliter)  Blood test result  \\\n",
       "0                                              9.857562                NaN   \n",
       "1                                                   NaN             normal   \n",
       "2                                              7.919321       inconclusive   \n",
       "3                                              4.098210                NaN   \n",
       "4                                             10.272230             normal   \n",
       "...                                                 ...                ...   \n",
       "18042                                         12.000000  slightly abnormal   \n",
       "18043                                          6.584811       inconclusive   \n",
       "18044                                          7.041556       inconclusive   \n",
       "18045                                          7.715464             normal   \n",
       "18046                                         11.188371             normal   \n",
       "\n",
       "       Symptom 1  Symptom 2  Symptom 3 Symptom 4 Symptom 5  \\\n",
       "0            1.0        1.0        1.0       1.0       1.0   \n",
       "1            0.0        1.0        1.0       1.0       1.0   \n",
       "2            0.0        0.0        1.0       0.0       0.0   \n",
       "3            0.0        0.0        0.0       0.0       NaN   \n",
       "4            1.0        0.0        0.0       1.0       0.0   \n",
       "...          ...        ...        ...       ...       ...   \n",
       "18042        NaN        1.0        0.0       0.0       0.0   \n",
       "18043        0.0        0.0        1.0       0.0       0.0   \n",
       "18044        1.0        1.0        1.0       1.0       0.0   \n",
       "18045        0.0        0.0        0.0       1.0       NaN   \n",
       "18046        1.0        0.0        1.0       1.0       1.0   \n",
       "\n",
       "                                   Genetic Disorder  \\\n",
       "0       Mitochondrial genetic inheritance disorders   \n",
       "1      Multifactorial genetic inheritance disorders   \n",
       "2       Mitochondrial genetic inheritance disorders   \n",
       "3      Multifactorial genetic inheritance disorders   \n",
       "4                  Single-gene inheritance diseases   \n",
       "...                                             ...   \n",
       "18042   Mitochondrial genetic inheritance disorders   \n",
       "18043   Mitochondrial genetic inheritance disorders   \n",
       "18044  Multifactorial genetic inheritance disorders   \n",
       "18045   Mitochondrial genetic inheritance disorders   \n",
       "18046  Multifactorial genetic inheritance disorders   \n",
       "\n",
       "                         Disorder Subclass  \n",
       "0      Leber's hereditary optic neuropathy  \n",
       "1                                 Diabetes  \n",
       "2                           Leigh syndrome  \n",
       "3                                   Cancer  \n",
       "4                          Cystic fibrosis  \n",
       "...                                    ...  \n",
       "18042                       Leigh syndrome  \n",
       "18043                       Leigh syndrome  \n",
       "18044                             Diabetes  \n",
       "18045               Mitochondrial myopathy  \n",
       "18046                             Diabetes  \n",
       "\n",
       "[18047 rows x 39 columns]"
      ]
     },
     "execution_count": 18,
     "metadata": {},
     "output_type": "execute_result"
    }
   ],
   "source": [
    "df"
   ]
  },
  {
   "cell_type": "code",
   "execution_count": 10,
   "metadata": {},
   "outputs": [
    {
     "name": "stdout",
     "output_type": "stream",
     "text": [
      "Patient Age                                          5.873552\n",
      "Genes in mother's side                               0.000000\n",
      "Inherited from father                                1.219039\n",
      "Maternal gene                                       11.475592\n",
      "Paternal gene                                        0.000000\n",
      "Blood cell count (mcL)                               0.000000\n",
      "Mother's age                                        24.696625\n",
      "Father's age                                        24.480523\n",
      "Status                                               0.000000\n",
      "Respiratory Rate (breaths/min)                       8.699507\n",
      "Heart Rate (rates/min                                8.466781\n",
      "Test 1                                               8.716130\n",
      "Test 2                                               8.799246\n",
      "Test 3                                               8.693966\n",
      "Test 4                                               8.721671\n",
      "Test 5                                               8.843575\n",
      "Parental consent                                     8.749377\n",
      "Follow-up                                            8.727212\n",
      "Gender                                               8.716130\n",
      "Birth asphyxia                                       8.599767\n",
      "Autopsy shows birth defect (if applicable)          19.737352\n",
      "Place of birth                                       8.815870\n",
      "Folic acid details (peri-conceptional)               8.666260\n",
      "H/O serious maternal illness                         8.599767\n",
      "H/O radiation exposure (x-ray)                       8.777082\n",
      "H/O substance abuse                                  9.043054\n",
      "Assisted conception IVF/ART                          8.810329\n",
      "History of anomalies in previous pregnancies         8.943315\n",
      "No. of previous abortion                             8.566521\n",
      "Birth defects                                        8.671801\n",
      "White Blood cell count (thousand per microliter)     8.904527\n",
      "Blood test result                                    8.666260\n",
      "Symptom 1                                            8.743836\n",
      "Symptom 2                                            9.120629\n",
      "Symptom 3                                            8.477863\n",
      "Symptom 4                                            8.677342\n",
      "Symptom 5                                            8.937774\n",
      "Genetic Disorder                                     0.000000\n",
      "Disorder Subclass                                    0.000000\n",
      "dtype: float64\n"
     ]
    }
   ],
   "source": [
    "missing_percentage = df.isnull().mean() * 100\n",
    "print(missing_percentage)\n"
   ]
  },
  {
   "cell_type": "code",
   "execution_count": 11,
   "metadata": {},
   "outputs": [
    {
     "name": "stdout",
     "output_type": "stream",
     "text": [
      "Mother's age                                        24.696625\n",
      "Father's age                                        24.480523\n",
      "Autopsy shows birth defect (if applicable)          19.737352\n",
      "Maternal gene                                       11.475592\n",
      "Symptom 2                                            9.120629\n",
      "H/O substance abuse                                  9.043054\n",
      "History of anomalies in previous pregnancies         8.943315\n",
      "Symptom 5                                            8.937774\n",
      "White Blood cell count (thousand per microliter)     8.904527\n",
      "Test 5                                               8.843575\n",
      "dtype: float64\n"
     ]
    }
   ],
   "source": [
    "top_10_missing = missing_percentage.nlargest(10)\n",
    "\n",
    "# the result\n",
    "print(top_10_missing)"
   ]
  },
  {
   "cell_type": "code",
   "execution_count": 12,
   "metadata": {},
   "outputs": [
    {
     "name": "stdout",
     "output_type": "stream",
     "text": [
      "Percentage of missing values for each column with missing data:\n",
      "33\n",
      "Patient Age                                          5.873552\n",
      "Inherited from father                                1.219039\n",
      "Maternal gene                                       11.475592\n",
      "Mother's age                                        24.696625\n",
      "Father's age                                        24.480523\n",
      "Respiratory Rate (breaths/min)                       8.699507\n",
      "Heart Rate (rates/min                                8.466781\n",
      "Test 1                                               8.716130\n",
      "Test 2                                               8.799246\n",
      "Test 3                                               8.693966\n",
      "Test 4                                               8.721671\n",
      "Test 5                                               8.843575\n",
      "Parental consent                                     8.749377\n",
      "Follow-up                                            8.727212\n",
      "Gender                                               8.716130\n",
      "Birth asphyxia                                       8.599767\n",
      "Autopsy shows birth defect (if applicable)          19.737352\n",
      "Place of birth                                       8.815870\n",
      "Folic acid details (peri-conceptional)               8.666260\n",
      "H/O serious maternal illness                         8.599767\n",
      "H/O radiation exposure (x-ray)                       8.777082\n",
      "H/O substance abuse                                  9.043054\n",
      "Assisted conception IVF/ART                          8.810329\n",
      "History of anomalies in previous pregnancies         8.943315\n",
      "No. of previous abortion                             8.566521\n",
      "Birth defects                                        8.671801\n",
      "White Blood cell count (thousand per microliter)     8.904527\n",
      "Blood test result                                    8.666260\n",
      "Symptom 1                                            8.743836\n",
      "Symptom 2                                            9.120629\n",
      "Symptom 3                                            8.477863\n",
      "Symptom 4                                            8.677342\n",
      "Symptom 5                                            8.937774\n",
      "dtype: float64\n"
     ]
    }
   ],
   "source": [
    "# Print the missing value percentages for columns that have missing values\n",
    "print(\"Percentage of missing values for each column with missing data:\")\n",
    "missing_columns = missing_percentage[missing_percentage > 0]\n",
    "print(len(missing_columns))\n",
    "print(missing_columns)"
   ]
  },
  {
   "cell_type": "markdown",
   "metadata": {},
   "source": [
    "Handling missing values for the columns\n",
    "- Each column has a seperate procedure for handling the missing values"
   ]
  },
  {
   "cell_type": "code",
   "execution_count": 13,
   "metadata": {},
   "outputs": [],
   "source": [
    "#copying the original daaset\n",
    "df1 = df.copy()"
   ]
  },
  {
   "cell_type": "code",
   "execution_count": 14,
   "metadata": {},
   "outputs": [
    {
     "data": {
      "text/plain": [
       "array([ 2.,  6., 12., 11., 14.,  3.,  4.,  7.,  1.,  0., nan, 10.,  5.,\n",
       "        8.,  9., 13.])"
      ]
     },
     "execution_count": 14,
     "metadata": {},
     "output_type": "execute_result"
    }
   ],
   "source": [
    "#handling parents age\n",
    "df1[\"Patient Age\"].unique()"
   ]
  },
  {
   "cell_type": "code",
   "execution_count": 15,
   "metadata": {},
   "outputs": [],
   "source": [
    "df1['Patient Age'] = df1['Patient Age'].fillna(df1['Patient Age'].median())"
   ]
  },
  {
   "cell_type": "code",
   "execution_count": 16,
   "metadata": {},
   "outputs": [
    {
     "data": {
      "text/plain": [
       "array([ 2.,  6., 12., 11., 14.,  3.,  4.,  7.,  1.,  0., 10.,  5.,  8.,\n",
       "        9., 13.])"
      ]
     },
     "execution_count": 16,
     "metadata": {},
     "output_type": "execute_result"
    }
   ],
   "source": [
    "df1[\"Patient Age\"].unique()"
   ]
  },
  {
   "cell_type": "markdown",
   "metadata": {},
   "source": [
    "#### Materinal Gene ,create unknown category for that as it has high missing values"
   ]
  },
  {
   "cell_type": "code",
   "execution_count": null,
   "metadata": {},
   "outputs": [],
   "source": [
    "df1[\"Maternal gene\"].unique()"
   ]
  },
  {
   "cell_type": "code",
   "execution_count": 17,
   "metadata": {},
   "outputs": [],
   "source": [
    "# Fill null values with the \"No record\" \n",
    "df1['Maternal gene'] = df1['Maternal gene'].fillna('No record')"
   ]
  },
  {
   "cell_type": "code",
   "execution_count": 19,
   "metadata": {},
   "outputs": [
    {
     "data": {
      "text/plain": [
       "array(['Yes', 'No', 'No record'], dtype=object)"
      ]
     },
     "execution_count": 19,
     "metadata": {},
     "output_type": "execute_result"
    },
    {
     "ename": "",
     "evalue": "",
     "output_type": "error",
     "traceback": [
      "\u001b[1;31mThe Kernel crashed while executing code in the current cell or a previous cell. \n",
      "\u001b[1;31mPlease review the code in the cell(s) to identify a possible cause of the failure. \n",
      "\u001b[1;31mClick <a href='https://aka.ms/vscodeJupyterKernelCrash'>here</a> for more info. \n",
      "\u001b[1;31mView Jupyter <a href='command:jupyter.viewOutput'>log</a> for further details."
     ]
    }
   ],
   "source": [
    "df1[\"Maternal gene\"].unique()"
   ]
  },
  {
   "cell_type": "markdown",
   "metadata": {},
   "source": [
    "### Parent ages handling"
   ]
  },
  {
   "cell_type": "code",
   "execution_count": 20,
   "metadata": {},
   "outputs": [],
   "source": [
    "# using knn imputer for handling null values of parents ages as these are numerical\n",
    "from sklearn.impute import KNNImputer\n",
    "import numpy as np\n",
    "\n",
    "age_columns = [\"Mother's age\", \"Father's age\"]\n",
    "\n",
    "# KNNImputer\n",
    "imputer = KNNImputer(n_neighbors=5) \n",
    "\n",
    "# Reshaping the data for imputation\n",
    "age_data = df1[age_columns].values.reshape(-1, 2)\n",
    "\n",
    "# imputation\n",
    "imputed_ages = imputer.fit_transform(age_data)\n",
    "\n",
    "# Round the imputed values to the nearest integer\n",
    "imputed_ages_rounded = np.round(imputed_ages).astype(int)\n",
    "\n",
    "# Updating  with rounded imputed values\n",
    "df1[age_columns] = imputed_ages_rounded\n",
    "\n",
    "print(df1[age_columns].isnull().sum())\n"
   ]
  },
  {
   "cell_type": "code",
   "execution_count": null,
   "metadata": {},
   "outputs": [],
   "source": [
    "df1"
   ]
  },
  {
   "cell_type": "code",
   "execution_count": null,
   "metadata": {},
   "outputs": [],
   "source": [
    "# unique_value = df1[\"Test 1\"].dropna().unique()[0]\n",
    "# unique_value\n",
    "df1[\"Test 1\"].unique()"
   ]
  },
  {
   "cell_type": "markdown",
   "metadata": {},
   "source": [
    "For tests(1-5) it has unique values either 1 or 0, imputation methods works only it has two or multiple values,the null values in those columns might be the same value, so filling the null values in tests columns with their unique values and impute \"mode\" to Respiratory Rate (breaths/min)', 'Heart Rate (rates/min)'\n"
   ]
  },
  {
   "cell_type": "code",
   "execution_count": null,
   "metadata": {},
   "outputs": [],
   "source": [
    "test_cols = ['Test 1', 'Test 2', 'Test 3', 'Test 4', 'Test 5', 'Parental consent']\n",
    "\n",
    "for col in test_cols:\n",
    "    # Getting the unique non-null values\n",
    "    unique_values = df1[col].dropna().unique()\n",
    "    \n",
    "    # Check if there is exactly one unique non-null value\n",
    "    if len(unique_values) == 1:\n",
    "        # Fill NaN values with this unique value\n",
    "        unique_value = unique_values[0]\n",
    "        df1[col].fillna(unique_value, inplace=True)\n",
    "    else:\n",
    "        print(f\"Column '{col}' has more than one unique non-null value.Skipping the {'col'}.\")\n"
   ]
  },
  {
   "cell_type": "code",
   "execution_count": null,
   "metadata": {},
   "outputs": [],
   "source": [
    "df1[\"Test 4\"].isnull().sum()"
   ]
  },
  {
   "cell_type": "code",
   "execution_count": null,
   "metadata": {},
   "outputs": [],
   "source": [
    "df1[\"Test 4\"].unique()"
   ]
  },
  {
   "cell_type": "code",
   "execution_count": null,
   "metadata": {},
   "outputs": [],
   "source": [
    "print(df1['Respiratory Rate (breaths/min)'].unique())\n",
    "print(df1['Heart Rate (rates/min'].unique())"
   ]
  },
  {
   "cell_type": "code",
   "execution_count": null,
   "metadata": {},
   "outputs": [],
   "source": [
    "mode_value = df1['Heart Rate (rates/min'].mode()[0]\n",
    "mode_value"
   ]
  },
  {
   "cell_type": "code",
   "execution_count": null,
   "metadata": {},
   "outputs": [],
   "source": [
    "# Fill null values with the mode\n",
    "#inoreder to avoid the warningerror use :loc \n",
    "mode_columns = [\"Inherited from father\",\"Respiratory Rate (breaths/min)\",\"Heart Rate (rates/min\",\"Follow-up\",\n",
    "                \"Gender\",\"Birth asphyxia\",\"Autopsy shows birth defect (if applicable)\",\n",
    "                \"Folic acid details (peri-conceptional)\",\"H/O serious maternal illness\",\n",
    "                \"Assisted conception IVF/ART\",\"History of anomalies in previous pregnancies\",\n",
    "                \"Birth defects\",\"Blood test result\",\"Symptom 1\",\"Symptom 2\",\"Symptom 3\",\"Symptom 4\",\n",
    "                \"Symptom 5\",\"Place of birth\"]\n",
    "\n",
    "for col in mode_columns:\n",
    "    mode_value = df1[col].mode()[0]\n",
    "    df1.loc[:, col] = df1[col].fillna(mode_value)\n",
    "    print(df1[col].unique())"
   ]
  },
  {
   "cell_type": "markdown",
   "metadata": {},
   "source": [
    "Checking for the Unique values on different columns"
   ]
  },
  {
   "cell_type": "code",
   "execution_count": null,
   "metadata": {},
   "outputs": [],
   "source": [
    "col = list(df1.columns)\n",
    "\n",
    "for i in col:\n",
    "    uniq = df1[i].unique()\n",
    "    if len(uniq) <= 10: # just checking,some columns has so many values\n",
    "        print(f'{i}: {uniq}')"
   ]
  },
  {
   "cell_type": "markdown",
   "metadata": {},
   "source": [
    "replacing \"-\" with NaN and eventually impute the NaN with Mode"
   ]
  },
  {
   "cell_type": "code",
   "execution_count": null,
   "metadata": {},
   "outputs": [],
   "source": [
    "columns = [\"H/O radiation exposure (x-ray)\",\"H/O substance abuse\"]\n",
    "for col in columns:\n",
    "    df1[col] = df1[col].replace('-', np.nan)\n",
    "    mode_value = df1[col].mode()[0]\n",
    "    df1.loc[:, col] = df1[col].fillna(mode_value)\n",
    "    print(df1[col].unique())"
   ]
  },
  {
   "cell_type": "markdown",
   "metadata": {},
   "source": [
    "Final check of null values"
   ]
  },
  {
   "cell_type": "code",
   "execution_count": null,
   "metadata": {},
   "outputs": [],
   "source": [
    "missing_percentage = df1.isnull().mean() * 100\n",
    "print(missing_percentage)"
   ]
  },
  {
   "cell_type": "markdown",
   "metadata": {},
   "source": [
    "use KNN imputer to \"No. of previous abortion\" & \"White Blood cell count (thousand per microliter)\""
   ]
  },
  {
   "cell_type": "code",
   "execution_count": null,
   "metadata": {},
   "outputs": [],
   "source": [
    "df1[\"White Blood cell count (thousand per microliter)\"].mode()"
   ]
  },
  {
   "cell_type": "code",
   "execution_count": null,
   "metadata": {},
   "outputs": [],
   "source": [
    "#knn imputer\n",
    "\n",
    "columns_test = [\"No. of previous abortion\", \"White Blood cell count (thousand per microliter)\"]\n",
    "\n",
    "# KNNImputer\n",
    "imputer = KNNImputer(n_neighbors=5) \n",
    "\n",
    "# Reshaping the data for imputation\n",
    "columns_test_data = df1[columns_test].values\n",
    "\n",
    "# imputation\n",
    "imputed_col = imputer.fit_transform(columns_test_data)\n",
    "\n",
    "# Update the original DataFrame with imputed values\n",
    "df1[columns_test] = imputed_col\n",
    "\n",
    "# Round the imputed values to the nearest integer only for \"No. of previous abortion\"\n",
    "df1[\"No. of previous abortion\"] = np.round(df1[\"No. of previous abortion\"]).astype(int)\n",
    "\n",
    "print(df1[columns_test].isnull().sum())"
   ]
  },
  {
   "cell_type": "code",
   "execution_count": null,
   "metadata": {},
   "outputs": [],
   "source": [
    "missing_percentage = df1.isnull().mean() * 100\n",
    "print(missing_percentage)"
   ]
  },
  {
   "cell_type": "code",
   "execution_count": null,
   "metadata": {},
   "outputs": [],
   "source": [
    "df1[\"White Blood cell count (thousand per microliter)\"] "
   ]
  },
  {
   "cell_type": "code",
   "execution_count": null,
   "metadata": {},
   "outputs": [],
   "source": [
    "# Rounding the values to 2 decimal places\n",
    "df1[\"White Blood cell count (thousand per microliter)\"] = df1[\"White Blood cell count (thousand per microliter)\"].round(2)\n",
    "df1[\"White Blood cell count (thousand per microliter)\"] \n"
   ]
  },
  {
   "cell_type": "code",
   "execution_count": null,
   "metadata": {},
   "outputs": [],
   "source": [
    "# # Saving the df1 to a CSV file\n",
    "# df1.to_csv('updated_imputed_data.csv', index=False)\n",
    "\n",
    "# print(\"DataFrame has been saved to 'updated_imputed_data.csv'.\")"
   ]
  },
  {
   "cell_type": "markdown",
   "metadata": {},
   "source": [
    "### Feature Selection"
   ]
  },
  {
   "cell_type": "code",
   "execution_count": null,
   "metadata": {},
   "outputs": [],
   "source": [
    "df1.dtypes"
   ]
  },
  {
   "cell_type": "code",
   "execution_count": null,
   "metadata": {},
   "outputs": [],
   "source": [
    "# checking for the unique values in the columns,identifying with 1 unique value\n",
    "columns =list(df1.columns)\n",
    "\n",
    "for i in columns:\n",
    "    print(f'{i}: {len(df1[i].unique())==1}')"
   ]
  },
  {
   "cell_type": "markdown",
   "metadata": {},
   "source": [
    "Dropping the Columns from Test1 to Test 5 and \"Parental consent\" as it has unique values,and it has single unique value across all samples do not contribute to the model's ability to make predictions, as they do not provide any new or useful information"
   ]
  },
  {
   "cell_type": "code",
   "execution_count": null,
   "metadata": {},
   "outputs": [],
   "source": [
    "#test columns\n",
    "test_columns = ['Test 1', 'Test 2', 'Test 3', 'Test 4', 'Test 5','Parental consent']\n",
    "\n",
    "df1 = df1.drop(columns=test_columns)\n",
    "df1.head(5)"
   ]
  },
  {
   "cell_type": "code",
   "execution_count": null,
   "metadata": {},
   "outputs": [],
   "source": [
    "df1.select_dtypes(include = 'number')"
   ]
  },
  {
   "cell_type": "markdown",
   "metadata": {},
   "source": [
    "checking the outliers using box plot"
   ]
  },
  {
   "cell_type": "code",
   "execution_count": null,
   "metadata": {},
   "outputs": [],
   "source": [
    "import seaborn as sns\n",
    "import matplotlib.pyplot as plt\n",
    "\n",
    "# Define your numerical features\n",
    "numerical_features = [\n",
    "    'Patient Age',\n",
    "    \"Father's age\",\n",
    "    \"Mother's age\",\n",
    "    'No. of previous abortion',\n",
    "    'White Blood cell count (thousand per microliter)'\n",
    "]\n",
    "\n",
    "# Create boxplots for each feature\n",
    "plt.figure(figsize=(15, 8))\n",
    "for i, feature in enumerate(numerical_features, 1):\n",
    "    plt.subplot(2, 3, i)  # Adjust the subplot grid as necessary\n",
    "    sns.boxplot(y=df1[feature])\n",
    "    plt.title(f'Boxplot of {feature}')\n",
    "    plt.tight_layout()  # Adjust subplots to fit into the figure area\n",
    "\n",
    "plt.show()\n"
   ]
  },
  {
   "cell_type": "code",
   "execution_count": null,
   "metadata": {},
   "outputs": [],
   "source": [
    "df1[numerical_features].describe()"
   ]
  },
  {
   "cell_type": "markdown",
   "metadata": {},
   "source": [
    "seemes there are no outliers"
   ]
  },
  {
   "cell_type": "code",
   "execution_count": null,
   "metadata": {},
   "outputs": [],
   "source": [
    "ordinal_features = [\n",
    "    'Follow-up',\n",
    "    'Respiratory Rate (breaths/min)',\n",
    "    'Heart Rate (rates/min'\n",
    "]\n",
    "\n",
    "for i in ordinal_features:\n",
    "    print(f'{i}: {df1[i].unique()}')\n",
    "\n"
   ]
  },
  {
   "cell_type": "code",
   "execution_count": null,
   "metadata": {},
   "outputs": [],
   "source": [
    "# Correct categorization based on the unique values provided\n",
    "numerical_features = [\n",
    "    'Patient Age',\n",
    "    \"Father's age\",\n",
    "    \"Mother's age\",\n",
    "    'No. of previous abortion',\n",
    "    'White Blood cell count (thousand per microliter)'\n",
    "]\n",
    "\n",
    "binary_features = [\n",
    "    'Genes in mother\\'s side',\n",
    "    'Inherited from father',\n",
    "    'Paternal gene',\n",
    "    'Status',\n",
    "    'Place of birth',\n",
    "    'Folic acid details (peri-conceptional)',\n",
    "    'H/O serious maternal illness',\n",
    "    'Assisted conception IVF/ART',\n",
    "    'History of anomalies in previous pregnancies',\n",
    "    'Symptom 1',\n",
    "    'Symptom 2',\n",
    "    'Symptom 3',\n",
    "    'Symptom 4',\n",
    "    'Symptom 5'\n",
    "]\n",
    "\n",
    "ordinal_features = [\n",
    "    'Follow-up',\n",
    "    'Respiratory Rate (breaths/min)',\n",
    "    'Heart Rate (rates/min'\n",
    "]\n",
    "\n",
    "onehot_features = [\n",
    "    'Maternal gene',\n",
    "    'Gender',\n",
    "    'Birth asphyxia',\n",
    "    'Autopsy shows birth defect (if applicable)',\n",
    "    'H/O radiation exposure (x-ray)',\n",
    "    'H/O substance abuse',\n",
    "    'Birth defects',\n",
    "    'Blood test result'\n",
    "]\n"
   ]
  },
  {
   "cell_type": "code",
   "execution_count": null,
   "metadata": {},
   "outputs": [],
   "source": [
    "# target variables\n",
    "target_variables = ['Genetic Disorder', 'Disorder Subclass']\n",
    "\n",
    "# Prepare the data\n",
    "X = df1.drop(target_variables, axis=1)\n",
    "y1 = df1['Genetic Disorder']\n",
    "y2 = df1['Disorder Subclass']"
   ]
  },
  {
   "cell_type": "code",
   "execution_count": null,
   "metadata": {},
   "outputs": [],
   "source": [
    "# Function to encode binary string features as it has \"string\" objects\n",
    "def encode_binary(X, binary_features):\n",
    "    for feature in binary_features:\n",
    "        if X[feature].dtype == 'object':\n",
    "            # get the unique values\n",
    "            unique_values = X[feature].unique()\n",
    "            if len(unique_values) == 2:\n",
    "                # Create a mapping dictionary\n",
    "                mapping = {unique_values[0]: 0, unique_values[1]: 1}\n",
    "                # Apply mapping\n",
    "                X[feature] = X[feature].map(mapping)\n",
    "    return X\n",
    "\n",
    "# apply binary encoding\n",
    "X = encode_binary(X, binary_features)"
   ]
  },
  {
   "cell_type": "code",
   "execution_count": null,
   "metadata": {},
   "outputs": [],
   "source": [
    "X.head(5)"
   ]
  },
  {
   "cell_type": "code",
   "execution_count": null,
   "metadata": {},
   "outputs": [],
   "source": [
    "from sklearn.compose import ColumnTransformer\n",
    "from sklearn.preprocessing import OneHotEncoder, OrdinalEncoder, StandardScaler\n",
    "# Create preprocessing steps (without standardization for chi-square)\n",
    "preprocessor_ = ColumnTransformer(\n",
    "    transformers=[\n",
    "        ('num', 'passthrough', numerical_features),\n",
    "        ('bin', 'passthrough', binary_features),\n",
    "        ('cat', OneHotEncoder(sparse_output=False, handle_unknown='ignore'), onehot_features),\n",
    "        ('ord', OrdinalEncoder(), ordinal_features)\n",
    "    ])"
   ]
  },
  {
   "cell_type": "code",
   "execution_count": null,
   "metadata": {},
   "outputs": [],
   "source": [
    "# Fit and transform the data\n",
    "X_encoded= preprocessor_.fit_transform(X)\n",
    "X_encoded"
   ]
  },
  {
   "cell_type": "code",
   "execution_count": null,
   "metadata": {},
   "outputs": [],
   "source": [
    "# Get feature names after encoding\n",
    "onehot_encoder = preprocessor_.named_transformers_['cat']\n",
    "cat_feature_names = onehot_encoder.get_feature_names_out(onehot_features)\n",
    "feature_names = np.concatenate([numerical_features, binary_features, cat_feature_names, ordinal_features])"
   ]
  },
  {
   "cell_type": "code",
   "execution_count": null,
   "metadata": {},
   "outputs": [],
   "source": [
    "# # Create a new dataframe with the encoded data\n",
    "encoded_df = pd.DataFrame(X_encoded, columns=feature_names, index=X.index) #X.index to match the column names with \"X\"\n",
    "encoded_df"
   ]
  },
  {
   "cell_type": "markdown",
   "metadata": {},
   "source": [
    "### Feature selection implemetation"
   ]
  },
  {
   "cell_type": "markdown",
   "metadata": {},
   "source": [
    "As our data has mixed datatypes and need to be properly encoded,using one hot,ordinal encoding etc..based on the unique values in the column"
   ]
  },
  {
   "cell_type": "code",
   "execution_count": null,
   "metadata": {},
   "outputs": [],
   "source": [
    "import pandas as pd\n",
    "from sklearn.model_selection import train_test_split, RandomizedSearchCV, cross_val_score\n",
    "from sklearn.preprocessing import StandardScaler\n",
    "from sklearn.linear_model import LogisticRegression\n",
    "from sklearn.ensemble import RandomForestClassifier\n",
    "from sklearn.metrics import classification_report, roc_auc_score\n",
    "from sklearn.feature_selection import RFE\n",
    "from scipy.stats import uniform, randint\n",
    "import lightgbm as lgb\n"
   ]
  },
  {
   "cell_type": "markdown",
   "metadata": {},
   "source": [
    "Creating Feature selection function as it has three test as follows"
   ]
  },
  {
   "cell_type": "code",
   "execution_count": null,
   "metadata": {},
   "outputs": [],
   "source": [
    "# Preprocessing\n",
    "X = encoded_df\n",
    "y1 = df1['Genetic Disorder']\n",
    "y2 = df1['Disorder Subclass']\n",
    "\n",
    "# Split the data for Genetic Disorder\n",
    "X_train, X_test, y_train, y_test = train_test_split(X, y1, test_size=0.2, random_state=42, stratify= y1)\n"
   ]
  },
  {
   "cell_type": "code",
   "execution_count": null,
   "metadata": {},
   "outputs": [],
   "source": [
    "# Feature Scaling\n",
    "scaler = StandardScaler()\n",
    "X_train_scaled = scaler.fit_transform(X_train)\n",
    "X_test_scaled = scaler.transform(X_test)"
   ]
  },
  {
   "cell_type": "markdown",
   "metadata": {},
   "source": [
    "Feature selection techniques"
   ]
  },
  {
   "cell_type": "code",
   "execution_count": null,
   "metadata": {},
   "outputs": [],
   "source": [
    "from sklearn.feature_selection import RFE\n",
    "from sklearn.decomposition import PCA\n",
    "from sklearn.ensemble import RandomForestClassifier\n",
    "from sklearn.metrics import classification_report\n",
    "from sklearn.linear_model import LogisticRegression\n"
   ]
  },
  {
   "cell_type": "code",
   "execution_count": null,
   "metadata": {},
   "outputs": [],
   "source": [
    "# Feature Selection Techniques\n",
    "\n",
    "# 1. Recursive Feature Elimination (RFE)\n",
    "model_rfe = RandomForestClassifier()\n",
    "rfe = RFE(model_rfe, n_features_to_select=20)  # Select top 20 features\n",
    "rfe.fit(X_train_scaled, y_train)\n",
    "\n",
    "# To retain feature names, use the original DataFrame columns\n",
    "rfe_features = X_train.columns[rfe.support_]  # Referring to the original feature names\n",
    "print(\"RFE selected features:\", rfe_features)"
   ]
  },
  {
   "cell_type": "code",
   "execution_count": null,
   "metadata": {},
   "outputs": [],
   "source": [
    "# Recursive Feature Elimination using scaling using random forest classifier\n",
    "model = RandomForestClassifier(n_estimators=100, max_depth=5) \n",
    "selector = RFE(model, n_features_to_select=20)\n",
    "X_train_rfe = selector.fit_transform(X_train_scaled, y_train)\n",
    "X_test_rfe = selector.transform(X_test_scaled)\n",
    "\n",
    "# Get the feature rankings\n",
    "feature_rankings = selector.ranking_\n",
    "\n",
    "# Combine feature names and rankings\n",
    "feature_names = X_train.columns\n",
    "feature_ranking_tuples = list(zip(feature_names, feature_rankings))\n",
    "\n",
    "# Sort the list of tuples based on rankings\n",
    "sorted_feature_ranking_tuples = sorted(feature_ranking_tuples, key=lambda x: x[1])\n",
    "\n",
    "# Get the most important features\n",
    "most_important_features = [feature for feature, rank in sorted_feature_ranking_tuples if rank == 1]\n",
    "\n",
    "rfc_GD_features =[]\n",
    "print(\"Most Important Features:\")\n",
    "for feature in most_important_features:\n",
    "    rfc_GD_features.append(feature)\n",
    "    print(feature)\n",
    "\n",
    "print(rfc_GD_features)\n",
    "\n",
    "\n",
    "\n"
   ]
  },
  {
   "cell_type": "code",
   "execution_count": null,
   "metadata": {},
   "outputs": [],
   "source": [
    "from sklearn.ensemble import GradientBoostingClassifier\n",
    "\n",
    "# Recursive Feature Elimination using scaling using GradientBoostingClassifier\n",
    "model = GradientBoostingClassifier(n_estimators=10)\n",
    "selector = RFE(model, n_features_to_select=20)\n",
    "X_train_rfe = selector.fit_transform(X_train_scaled, y_train)\n",
    "X_test_rfe = selector.transform(X_test_scaled)\n",
    "\n",
    "# Get the feature rankings\n",
    "feature_rankings = selector.ranking_\n",
    "\n",
    "# Combine feature names and rankings\n",
    "feature_names = X_train.columns\n",
    "feature_ranking_tuples = list(zip(feature_names, feature_rankings))\n",
    "\n",
    "# Sort the list of tuples based on rankings\n",
    "sorted_feature_ranking_tuples = sorted(feature_ranking_tuples, key=lambda x: x[1])\n",
    "\n",
    "# Get the most important features\n",
    "most_important_features = [feature for feature, rank in sorted_feature_ranking_tuples if rank == 1]\n",
    "\n",
    "gb_GD_features = []\n",
    "print(\"Most Important Features:\")\n",
    "for feature in most_important_features:\n",
    "    gb_GD_features.append(feature)\n",
    "    print(feature)\n",
    "\n",
    "print(gb_GD_features)"
   ]
  },
  {
   "cell_type": "code",
   "execution_count": null,
   "metadata": {},
   "outputs": [],
   "source": [
    "# Logistic Regression Model with L2 Penalty\n",
    "model = LogisticRegression(max_iter=1000,penalty='l2', solver='liblinear')  # You can choose other solvers as needed\n",
    "\n",
    "# Recursive Feature Elimination\n",
    "selector = RFE(model, n_features_to_select=20)\n",
    "X_train_rfe = selector.fit_transform(X_train_scaled, y_train)\n",
    "X_test_rfe = selector.transform(X_test_scaled)\n",
    "\n",
    "# Get the feature rankings\n",
    "feature_rankings = selector.ranking_\n",
    "\n",
    "# Combine feature names and rankings\n",
    "feature_names = X_train.columns\n",
    "feature_ranking_tuples = list(zip(feature_names, feature_rankings))\n",
    "\n",
    "# Sort the list of tuples based on rankings\n",
    "sorted_feature_ranking_tuples = sorted(feature_ranking_tuples, key=lambda x: x[1])\n",
    "\n",
    "# Get the most important features\n",
    "most_important_features = [feature for feature, rank in sorted_feature_ranking_tuples if rank == 1]\n",
    "\n",
    "lr_GD_features = []\n",
    "print(\"Most Important Features:\")\n",
    "for feature in most_important_features:\n",
    "    lr_GD_features.append(feature)\n",
    "    print(feature)\n",
    "\n",
    "print(lr_GD_features)"
   ]
  },
  {
   "cell_type": "markdown",
   "metadata": {},
   "source": [
    "All most same features are repeated using both the feature selection techniques"
   ]
  },
  {
   "cell_type": "markdown",
   "metadata": {},
   "source": [
    "tring with disorder subclass"
   ]
  },
  {
   "cell_type": "code",
   "execution_count": null,
   "metadata": {},
   "outputs": [],
   "source": [
    "# Split the data for Genetic Disorder\n",
    "X_train, X_test, y_train, y_test = train_test_split(X, y2, test_size=0.2, random_state=42, stratify= y2)"
   ]
  },
  {
   "cell_type": "code",
   "execution_count": null,
   "metadata": {},
   "outputs": [],
   "source": [
    "# 1. Recursive Feature Elimination (RFE)\n",
    "model_rfe = RandomForestClassifier()\n",
    "rfe = RFE(model_rfe, n_features_to_select=20)  # Select top 20 features\n",
    "rfe.fit(X_train, y_train)\n",
    "rfe_features = X_train.columns[rfe.support_]\n",
    "print(\"RFE selected features:\", rfe_features)"
   ]
  },
  {
   "cell_type": "code",
   "execution_count": null,
   "metadata": {},
   "outputs": [],
   "source": [
    "# Recursive Feature Elimination using scaling using random forest classifier\n",
    "model = RandomForestClassifier(n_estimators=100, max_depth=5) \n",
    "selector = RFE(model, n_features_to_select=20)\n",
    "X_train_rfe = selector.fit_transform(X_train_scaled, y_train)\n",
    "X_test_rfe = selector.transform(X_test_scaled)\n",
    "\n",
    "# Get the feature rankings\n",
    "feature_rankings = selector.ranking_\n",
    "\n",
    "# Combine feature names and rankings\n",
    "feature_names = X_train.columns\n",
    "feature_ranking_tuples = list(zip(feature_names, feature_rankings))\n",
    "\n",
    "# Sort the list of tuples based on rankings\n",
    "sorted_feature_ranking_tuples = sorted(feature_ranking_tuples, key=lambda x: x[1])\n",
    "\n",
    "# Get the most important features\n",
    "most_important_features = [feature for feature, rank in sorted_feature_ranking_tuples if rank == 1]\n",
    "\n",
    "rfc_DS_features = []\n",
    "print(\"Most Important Features:\")\n",
    "for feature in most_important_features:\n",
    "    rfc_DS_features.append(feature)\n",
    "    print(feature)\n",
    "\n",
    "\n",
    "\n"
   ]
  },
  {
   "cell_type": "code",
   "execution_count": null,
   "metadata": {},
   "outputs": [],
   "source": [
    "# Logistic Regression Model with L2 Penalty\n",
    "model = LogisticRegression(max_iter=1000,penalty='l2', solver='liblinear')  # You can choose other solvers as needed\n",
    "\n",
    "# Recursive Feature Elimination\n",
    "selector = RFE(model, n_features_to_select=20)\n",
    "X_train_rfe = selector.fit_transform(X_train_scaled, y_train)\n",
    "X_test_rfe = selector.transform(X_test_scaled)\n",
    "\n",
    "# Get the feature rankings\n",
    "feature_rankings = selector.ranking_\n",
    "\n",
    "# Combine feature names and rankings\n",
    "feature_names = X_train.columns\n",
    "feature_ranking_tuples = list(zip(feature_names, feature_rankings))\n",
    "\n",
    "# Sort the list of tuples based on rankings\n",
    "sorted_feature_ranking_tuples = sorted(feature_ranking_tuples, key=lambda x: x[1])\n",
    "\n",
    "# Get the most important features\n",
    "most_important_features = [feature for feature, rank in sorted_feature_ranking_tuples if rank == 1]\n",
    "\n",
    "lr_DS_features = []\n",
    "print(\"Most Important Features:\")\n",
    "for feature in most_important_features:\n",
    "    lr_DS_features.append(feature)\n",
    "    print(feature)"
   ]
  },
  {
   "cell_type": "code",
   "execution_count": null,
   "metadata": {},
   "outputs": [],
   "source": [
    "from sklearn.ensemble import GradientBoostingClassifier\n",
    "\n",
    "# Recursive Feature Elimination using scaling using GradientBoostingClassifier\n",
    "model = GradientBoostingClassifier(n_estimators=10)\n",
    "selector = RFE(model, n_features_to_select=20)\n",
    "X_train_rfe = selector.fit_transform(X_train_scaled, y_train)\n",
    "X_test_rfe = selector.transform(X_test_scaled)\n",
    "\n",
    "# Get the feature rankings\n",
    "feature_rankings = selector.ranking_\n",
    "\n",
    "# Combine feature names and rankings\n",
    "feature_names = X_train.columns\n",
    "feature_ranking_tuples = list(zip(feature_names, feature_rankings))\n",
    "\n",
    "# Sort the list of tuples based on rankings\n",
    "sorted_feature_ranking_tuples = sorted(feature_ranking_tuples, key=lambda x: x[1])\n",
    "\n",
    "# Get the most important features\n",
    "most_important_features = [feature for feature, rank in sorted_feature_ranking_tuples if rank == 1]\n",
    "\n",
    "gb_DS_features = []\n",
    "print(\"Most Important Features:\")\n",
    "for feature in most_important_features:\n",
    "    gb_DS_features.append(feature)\n",
    "    print(feature)\n",
    "\n",
    "print(gb_DS_features)"
   ]
  },
  {
   "cell_type": "code",
   "execution_count": null,
   "metadata": {},
   "outputs": [],
   "source": [
    "# Find common features for Genetic Disorder\n",
    "common_GD_features = list(set(rfc_GD_features) & set(gb_GD_features) & set(lr_GD_features))\n",
    "\n",
    "print(\"Common Features for Genetic Disorder:\")\n",
    "for feature in common_GD_features:\n",
    "    print(feature)\n",
    "\n",
    "# Find common features for Disorder Subclass  \n",
    "common_DS_features = list(set(rfc_DS_features) & set(gb_DS_features) & set(lr_DS_features))\n",
    "\n",
    "print(\"\\nCommon Features for Disorder Subclass:\")\n",
    "for feature in common_DS_features:\n",
    "    print(feature)"
   ]
  },
  {
   "cell_type": "code",
   "execution_count": null,
   "metadata": {},
   "outputs": [],
   "source": [
    "import matplotlib.pyplot as plt\n",
    "import seaborn as sns\n",
    "\n",
    "# Assuming common_GD_features and common_DS_features are already defined\n",
    "# Example: common_GD_features = ['Feature1', 'Feature2', ...]\n",
    "# Example: common_DS_features = ['FeatureA', 'FeatureB', ...]\n",
    "\n",
    "# Visualize common features for Genetic Disorder\n",
    "def visualize_common_features(features, title):\n",
    "    plt.figure(figsize=(15, 12))\n",
    "    for i, feature in enumerate(features):\n",
    "        plt.subplot(5, 4, i + 1)\n",
    "        sns.histplot(X[feature], kde=True, bins=30)\n",
    "        plt.title(feature, fontsize=10)\n",
    "        plt.xticks(rotation=45)\n",
    "    plt.tight_layout()\n",
    "    plt.suptitle(title, fontsize=16)\n",
    "    plt.show()\n",
    "\n",
    "# Visualize common features for Genetic Disorder\n",
    "visualize_common_features(common_GD_features, \"Distribution of Common Features for Genetic Disorder\")\n",
    "\n",
    "# Visualize common features for Disorder Subclass\n",
    "visualize_common_features(common_DS_features, \"Distribution of Common Features for Disorder Subclass\")\n",
    "\n",
    "# Count plots for binary features in common features\n",
    "def count_plot_binary_features(features, target):\n",
    "    for feature in features:\n",
    "        if df[feature].dtype == 'object':  # Check if the feature is categorical\n",
    "            plt.figure(figsize=(10, 6))\n",
    "            sns.countplot(x=feature, hue=target, data=df)\n",
    "            plt.title(f'Count of {feature} by {target}')\n",
    "            plt.show()\n",
    "\n",
    "# Count plots for common features in Genetic Disorder\n",
    "count_plot_binary_features(common_GD_features, 'Genetic Disorder')\n",
    "\n",
    "# Count plots for common features in Disorder Subclass\n",
    "count_plot_binary_features(common_DS_features, 'Disorder Subclass')\n",
    "\n",
    "# Box plots for continuous features\n",
    "def box_plot_continuous_features(features, target):\n",
    "    for feature in features:\n",
    "        if df[feature].dtype in ['int64', 'float64']:  # Check if the feature is continuous\n",
    "            plt.figure(figsize=(10, 6))\n",
    "            sns.boxplot(x=target, y=feature, data=df)\n",
    "            plt.title(f'{feature} vs {target}')\n",
    "            plt.show()\n",
    "\n",
    "# Box plots for common features in Genetic Disorder\n",
    "box_plot_continuous_features(common_GD_features, 'Genetic Disorder')\n",
    "\n",
    "# Box plots for common features in Disorder Subclass\n",
    "box_plot_continuous_features(common_DS_features, 'Disorder Subclass')\n",
    "\n"
   ]
  },
  {
   "cell_type": "code",
   "execution_count": null,
   "metadata": {},
   "outputs": [],
   "source": [
    "from sklearn.metrics import accuracy_score\n",
    "\n",
    "def evaluate_model(model, X_train, X_test, y_train, y_test, features):\n",
    "    \"\"\"\n",
    "    Train and evaluate the model on the selected features.\n",
    "    \n",
    "    Parameters:\n",
    "    model: The machine learning model to train\n",
    "    X_train: The training set features\n",
    "    X_test: The testing set features\n",
    "    y_train: The training set target\n",
    "    y_test: The testing set target\n",
    "    features: The list of features to be used in training and testing\n",
    "    \n",
    "    Returns:\n",
    "    accuracy: The accuracy score of the model\n",
    "    \"\"\"\n",
    "    # Select only the common features\n",
    "    X_train_selected = X_train[features]\n",
    "    X_test_selected = X_test[features]\n",
    "\n",
    "    # Train the model\n",
    "    model.fit(X_train_selected, y_train)\n",
    "\n",
    "    # Make predictions\n",
    "    y_pred = model.predict(X_test_selected)\n",
    "\n",
    "    # Calculate accuracy\n",
    "    accuracy = accuracy_score(y_test, y_pred)\n",
    "    \n",
    "    # Print the classification report\n",
    "    print(\"Classification Report:\\n\", classification_report(y_test, y_pred))\n",
    "    \n",
    "    return accuracy\n",
    "\n",
    "\n",
    "# For Genetic Disorder\n",
    "\n",
    "# Split the data for Genetic Disorder\n",
    "X_train, X_test, y_train, y_test = train_test_split(X, y1, test_size=0.2, random_state=42, stratify= y1)\n",
    "\n",
    "model_rf = RandomForestClassifier(n_estimators=100, max_depth=5)\n",
    "accuracy_GD = evaluate_model(model_rf, X_train, X_test, y_train, y_test, list(common_GD_features))\n",
    "print(\"Accuracy for Genetic Disorder using Random Forest:\", accuracy_GD)\n",
    "\n",
    "model_gb = GradientBoostingClassifier(n_estimators=10)\n",
    "accuracy_DS = evaluate_model(model_gb, X_train, X_test, y_train, y_test, list(common_GD_features))\n",
    "print(\"Accuracy for Disorder Subclass using Gradient Boosting:\", accuracy_DS)\n",
    "\n",
    "# Logistic Regression\n",
    "model_lr = LogisticRegression(max_iter=1000, penalty='l2', solver='liblinear')\n",
    "accuracy_GD_lr = evaluate_model(model_lr, X_train, X_test, y_train, y_test, list(common_GD_features))\n",
    "print(\"Accuracy for Genetic Disorder using Logistic Regression:\", accuracy_GD_lr)\n",
    "\n",
    "    \n"
   ]
  },
  {
   "cell_type": "code",
   "execution_count": null,
   "metadata": {},
   "outputs": [],
   "source": [
    "#for disordersubclass\n",
    "# Split the data for Disorder Subclass\n",
    "X_train, X_test, y_train, y_test = train_test_split(X, y2, test_size=0.2, random_state=42, stratify= y2)\n",
    "\n",
    "\n",
    "model_rf = RandomForestClassifier(n_estimators=100, max_depth=5)\n",
    "accuracy_GD = evaluate_model(model_rf, X_train, X_test, y_train, y_test, list(common_DS_features))\n",
    "print(\"Accuracy for Genetic Disorder using Random Forest:\", accuracy_GD)\n",
    "\n",
    "model_gb = GradientBoostingClassifier(n_estimators=10)\n",
    "accuracy_DS = evaluate_model(model_gb, X_train, X_test, y_train, y_test, list(common_DS_features))\n",
    "print(\"Accuracy for Disorder Subclass using Gradient Boosting:\", accuracy_DS)\n",
    "\n",
    "# Logistic Regression\n",
    "model_lr = LogisticRegression(max_iter=1000, penalty='l2', solver='liblinear')\n",
    "accuracy_GD_lr = evaluate_model(model_lr, X_train, X_test, y_train, y_test, list(common_DS_features))\n",
    "print(\"Accuracy for Genetic Disorder using Logistic Regression:\", accuracy_GD_lr)"
   ]
  },
  {
   "cell_type": "markdown",
   "metadata": {},
   "source": [
    "## Model Evaluation Summary for common selected features\n",
    "\n",
    "### Genetic Disorder Classification\n",
    "\n",
    "**Random Forest:**\n",
    "- **Accuracy:** 55.07%\n",
    "- **Precision:** 56% (weighted avg)\n",
    "- **Recall:** 55% (weighted avg)\n",
    "- **F1-Score:** 47% (weighted avg)\n",
    "\n",
    "**Gradient Boosting:**\n",
    "- **Accuracy:** 53.38%\n",
    "- **Precision:** 47% (weighted avg)\n",
    "- **Recall:** 53% (weighted avg)\n",
    "- **F1-Score:** 43% (weighted avg)\n",
    "\n",
    "**Logistic Regression:**\n",
    "- **Accuracy:** 52.02%\n",
    "- **Precision:** 57% (weighted avg)\n",
    "- **Recall:** 52% (weighted avg)\n",
    "- **F1-Score:** 38% (weighted avg)\n",
    "\n",
    "### Disorder Subclass Classification\n",
    "\n",
    "**Random Forest:**\n",
    "- **Accuracy:** 25.32%\n",
    "- **Precision:** 14% (weighted avg)\n",
    "- **Recall:** 25% (weighted avg)\n",
    "- **F1-Score:** 14% (weighted avg)\n",
    "\n",
    "**Gradient Boosting:**\n",
    "- **Accuracy:** 25.60%\n",
    "- **Precision:** 15% (weighted avg)\n",
    "- **Recall:** 26% (weighted avg)\n",
    "- **F1-Score:** 14% (weighted avg)\n",
    "\n",
    "**Logistic Regression:**\n",
    "- **Accuracy:** 24.96%\n",
    "- **Precision:** 12% (weighted avg)\n",
    "- **Recall:** 25% (weighted avg)\n",
    "- **F1-Score:** 14% (weighted avg)\n"
   ]
  },
  {
   "cell_type": "markdown",
   "metadata": {},
   "source": [
    "test with top20features of RFE for Random froest as it has high accuracy  for rfc_GD_features"
   ]
  },
  {
   "cell_type": "code",
   "execution_count": null,
   "metadata": {},
   "outputs": [],
   "source": [
    "\n",
    "X_train, X_test, y_train, y_test = train_test_split(X, y1, test_size=0.2, random_state=42, stratify= y1)\n",
    "\n",
    "\n",
    "model_rf = RandomForestClassifier(n_estimators=100, max_depth=5)\n",
    "accuracy_GD = evaluate_model(model_rf, X_train, X_test, y_train, y_test, list(rfc_GD_features))\n",
    "print(\"Accuracy for Genetic Disorder using Random Forest:\", accuracy_GD)"
   ]
  },
  {
   "cell_type": "markdown",
   "metadata": {},
   "source": [
    "## till now we have seen the results on using standard scaler for feature selection and nodel building now trying with with out standard sclaer"
   ]
  },
  {
   "cell_type": "markdown",
   "metadata": {},
   "source": [
    "resmoving X_train scaled with X_train"
   ]
  },
  {
   "cell_type": "code",
   "execution_count": null,
   "metadata": {},
   "outputs": [],
   "source": [
    "# Preprocessing and Splitting Data\n",
    "X = encoded_df  # Make sure encoded_df is properly created with feature names\n",
    "y1 = df1['Genetic Disorder']  # Target variable for Genetic Disorder classification\n",
    "\n",
    "# Split the data for Genetic Disorder\n",
    "X_train, X_test, y_train, y_test = train_test_split(X, y1, test_size=0.2, random_state=42, stratify=y1)\n",
    "# Recursive Feature Elimination using scaling using random forest classifier\n",
    "model = RandomForestClassifier(n_estimators=100, max_depth=5) \n",
    "selector = RFE(model, n_features_to_select=20)\n",
    "X_train_rfe = selector.fit_transform(X_train, y_train)\n",
    "X_test_rfe = selector.transform(X_test)\n",
    "\n",
    "# Get the feature rankings\n",
    "feature_rankings = selector.ranking_\n",
    "\n",
    "# Combine feature names and rankings\n",
    "feature_names = X_train.columns\n",
    "feature_ranking_tuples = list(zip(feature_names, feature_rankings))\n",
    "\n",
    "# Sort the list of tuples based on rankings\n",
    "sorted_feature_ranking_tuples = sorted(feature_ranking_tuples, key=lambda x: x[1])\n",
    "\n",
    "# Get the most important features\n",
    "most_important_features = [feature for feature, rank in sorted_feature_ranking_tuples if rank == 1]\n",
    "\n",
    "rfc_GD_features_1 =[]\n",
    "print(\"Most Important Features:\")\n",
    "for feature in most_important_features:\n",
    "    rfc_GD_features_1.append(feature)\n",
    "    print(feature)\n",
    "\n",
    "print(rfc_GD_features_1)\n",
    "\n",
    "\n",
    "\n"
   ]
  },
  {
   "cell_type": "code",
   "execution_count": null,
   "metadata": {},
   "outputs": [],
   "source": [
    "rfc_GD_features"
   ]
  },
  {
   "cell_type": "markdown",
   "metadata": {},
   "source": [
    "rfc_GD_features(using standard scaler)\n",
    "rfc_GD_features_1(not using standard scaler) has the same features"
   ]
  },
  {
   "cell_type": "code",
   "execution_count": null,
   "metadata": {},
   "outputs": [],
   "source": [
    "\n",
    "model_rf = RandomForestClassifier(n_estimators=100, max_depth=5)\n",
    "accuracy_GD = evaluate_model(model_rf, X_train, X_test, y_train, y_test, list(rfc_GD_features_1))\n",
    "print(\"Accuracy for Genetic Disorder using Random Forest:\", accuracy_GD)"
   ]
  },
  {
   "cell_type": "markdown",
   "metadata": {},
   "source": [
    "Checking with Random forest classifier "
   ]
  },
  {
   "cell_type": "code",
   "execution_count": null,
   "metadata": {},
   "outputs": [],
   "source": [
    "\n",
    "# Preprocessing and Splitting Data\n",
    "X = encoded_df  # Make sure encoded_df is properly created with feature names\n",
    "y1 = df1['Genetic Disorder']  # Target variable for Genetic Disorder classification\n",
    "\n",
    "# Split the data for Genetic Disorder\n",
    "X_train, X_test, y_train, y_test = train_test_split(X, y1, test_size=0.2, random_state=42, stratify=y1)\n",
    "\n",
    "# Recursive Feature Elimination using Random Forest Classifier (No Scaling)\n",
    "model = RandomForestClassifier(n_estimators=100, max_depth=5)\n",
    "selector = RFE(model, n_features_to_select=20)\n",
    "X_train_rfe = selector.fit_transform(X_train, y_train)  # Selecting top features without scaling\n",
    "X_test_rfe = selector.transform(X_test)\n",
    "\n",
    "# Get the feature rankings\n",
    "feature_rankings = selector.ranking_\n",
    "\n",
    "# Combine feature names and rankings\n",
    "feature_names = X_train.columns\n",
    "feature_ranking_tuples = list(zip(feature_names, feature_rankings))\n",
    "\n",
    "# Sort the list of tuples based on rankings\n",
    "sorted_feature_ranking_tuples = sorted(feature_ranking_tuples, key=lambda x: x[1])\n",
    "\n",
    "# Get the most important features\n",
    "most_important_features = [feature for feature, rank in sorted_feature_ranking_tuples if rank == 1]\n",
    "\n",
    "# Print the most important features\n",
    "rfc_GD_features = []\n",
    "print(\"Most Important Features:\")\n",
    "for feature in most_important_features:\n",
    "    rfc_GD_features.append(feature)\n",
    "    print(feature)\n",
    "\n",
    "# Model Training and Evaluation using the selected features\n",
    "model_rf = RandomForestClassifier(n_estimators=100, max_depth=5)\n",
    "model_rf.fit(X_train_rfe, y_train)  # Training on the top selected features\n",
    "y_pred = model_rf.predict(X_test_rfe)  # Predicting on the test data\n",
    "\n",
    "# Evaluate Accuracy\n",
    "accuracy_GD = accuracy_score(y_test, y_pred)\n",
    "print(\"Accuracy for Genetic Disorder using Random Forest:\", accuracy_GD)\n"
   ]
  },
  {
   "cell_type": "markdown",
   "metadata": {},
   "source": [
    "Do not have much difference of using Standard Scaler and not using standard scaler now testing with Lazy predict with the features selected by RFE method algoriyhms and see the best accuracy of different algorithms"
   ]
  },
  {
   "cell_type": "code",
   "execution_count": null,
   "metadata": {},
   "outputs": [],
   "source": [
    "from lazypredict.Supervised import LazyClassifier\n",
    "X = encoded_df  # Make sure encoded_df is properly created with feature names\n",
    "y1 = df1['Genetic Disorder']\n",
    "# Assuming you have your dataset in `X` (features) and `y` (target)\n",
    "\n",
    "# Select top 20 features for Random Forest, Gradient Boosting, and Logistic Regression\n",
    "X_rf = X[rfc_GD_features]  # Replace with actual feature names\n",
    "X_gb = X[gb_GD_features]  # Replace with actual feature names\n",
    "X_lr = X[lr_GD_features]  # Replace with actual feature names\n",
    "\n",
    "# Split the data for each feature set\n",
    "X_train_rf, X_test_rf, y_train_rf, y_test_rf = train_test_split(X_rf, y1, test_size=0.2, random_state=42)\n",
    "X_train_gb, X_test_gb, y_train_gb, y_test_gb = train_test_split(X_gb, y1, test_size=0.2, random_state=42)\n",
    "X_train_lr, X_test_lr, y_train_lr, y_test_lr = train_test_split(X_lr, y1, test_size=0.2, random_state=42)"
   ]
  },
  {
   "cell_type": "code",
   "execution_count": null,
   "metadata": {},
   "outputs": [],
   "source": [
    "import lazypredict\n",
    "print(lazypredict.__file__)\n"
   ]
  },
  {
   "cell_type": "code",
   "execution_count": null,
   "metadata": {},
   "outputs": [],
   "source": [
    "# Evaluate Random Forest features\n",
    "clf_rf = LazyClassifier(verbose=0, ignore_warnings=True, custom_metric=None)\n",
    "models_rf, predictions_rf = clf_rf.fit(X_train_rf, X_test_rf, y_train_rf, y_test_rf)\n",
    "\n",
    "# Evaluate Gradient Boosting features\n",
    "clf_gb = LazyClassifier(verbose=0, ignore_warnings=True, custom_metric=None)\n",
    "models_gb, predictions_gb = clf_gb.fit(X_train_gb, X_test_gb, y_train_gb, y_test_gb)\n",
    "\n",
    "# Evaluate Logistic Regression features\n",
    "clf_lr = LazyClassifier(verbose=0, ignore_warnings=True, custom_metric=None)\n",
    "models_lr, predictions_lr = clf_lr.fit(X_train_lr, X_test_lr, y_train_lr, y_test_lr)\n"
   ]
  },
  {
   "cell_type": "code",
   "execution_count": null,
   "metadata": {},
   "outputs": [],
   "source": [
    "# Evaluate Random Forest features\n",
    "clf_rf = LazyClassifier(verbose=0, ignore_warnings=True, custom_metric=None)\n",
    "models_rf, predictions_rf = clf_rf.fit(X_train_rf, X_test_rf, y_train_rf, y_test_rf)\n",
    "\n",
    "# Evaluate Gradient Boosting features\n",
    "clf_gb = LazyClassifier(verbose=0, ignore_warnings=True, custom_metric=None)\n",
    "models_gb, predictions_gb = clf_gb.fit(X_train_gb, X_test_gb, y_train_gb, y_test_gb)\n",
    "\n",
    "# Evaluate Logistic Regression features\n",
    "clf_lr = LazyClassifier(verbose=0, ignore_warnings=True, custom_metric=None)\n",
    "models_lr, predictions_lr = clf_lr.fit(X_train_lr, X_test_lr, y_train_lr, y_test_lr)\n"
   ]
  },
  {
   "cell_type": "code",
   "execution_count": null,
   "metadata": {},
   "outputs": [],
   "source": []
  },
  {
   "cell_type": "code",
   "execution_count": null,
   "metadata": {},
   "outputs": [],
   "source": [
    "# Perform feature selection for both targets\n",
    "results_chi_1 = chi_square_selection(X_encoded_chi2, y1, feature_names, \"Genetic Disorder\")\n",
    "\n",
    "\n",
    "results_chi_2 = chi_square_selection(X_encoded_chi2, y2, feature_names, \"Disorder Subclass\")\n"
   ]
  },
  {
   "cell_type": "markdown",
   "metadata": {},
   "source": [
    "Chi2 test Visualisation"
   ]
  },
  {
   "cell_type": "code",
   "execution_count": null,
   "metadata": {},
   "outputs": [],
   "source": [
    "import matplotlib.pyplot as plt\n",
    "import seaborn as sns\n",
    "def plot_top_features(results, title):\n",
    "    plt.figure(figsize=(12, 8))\n",
    "    sns.barplot(x=results.values, y=results.index, palette=\"viridis\")\n",
    "    plt.title(title)\n",
    "    plt.xlabel('Chi-square Score')\n",
    "    plt.ylabel('Feature')\n",
    "    plt.show()\n",
    "\n",
    "# Plotting the top 10 features for each target\n",
    "plot_top_features(results_chi_1, \"Top  Features for Genetic Disorder\")\n",
    "plot_top_features(results_chi_2, \"Top  Features for Disorder Subclass\")"
   ]
  },
  {
   "cell_type": "code",
   "execution_count": null,
   "metadata": {},
   "outputs": [],
   "source": [
    "# Combine Chi-square results for both targets\n",
    "combined_chi2_results = pd.concat([results_chi_1, results_chi_2], axis=1, keys=['Genetic Disorder', 'Disorder Subclass'])\n",
    "\n",
    "# Sum the Chi-square scores to get a combined importance score\n",
    "combined_chi2_results['Combined Score'] = combined_chi2_results.sum(axis=1)\n",
    "\n",
    "# Sort features by the combined score\n",
    "top_features_combined = combined_chi2_results['Combined Score'].sort_values(ascending=False)\n",
    "\n",
    "# Extract top 20 features\n",
    "top_20_features = top_features_combined.head(20)\n",
    "print(\"Top 20 Features:\")\n",
    "print(top_20_features)\n"
   ]
  },
  {
   "cell_type": "code",
   "execution_count": null,
   "metadata": {},
   "outputs": [],
   "source": [
    "# Create DataFrame with feature names\n",
    "X_encoded_df = pd.DataFrame(X_encoded_chi2, columns=feature_names)\n",
    "print(\"Columns in Encoded DataFrame:\")\n",
    "print(X_encoded_df.columns)\n"
   ]
  },
  {
   "cell_type": "code",
   "execution_count": null,
   "metadata": {},
   "outputs": [],
   "source": [
    "X_encoded_df"
   ]
  },
  {
   "cell_type": "code",
   "execution_count": null,
   "metadata": {},
   "outputs": [],
   "source": [
    "# Filter dataset to keep only top 20 features from the encoded DataFrame\n",
    "top_20_feature_names = top_20_features.index\n",
    "X_top_20 = X_encoded_df[top_20_feature_names]\n",
    "\n",
    "print(\"Top 20 Features in the Encoded Dataset:\")\n",
    "\n",
    "X_top_20\n"
   ]
  },
  {
   "cell_type": "code",
   "execution_count": null,
   "metadata": {},
   "outputs": [],
   "source": [
    "import matplotlib.pyplot as plt\n",
    "import seaborn as sns\n",
    "\n",
    "\n",
    "# Distribution of Top 20 Features\n",
    "plt.figure(figsize=(15, 12))\n",
    "\n",
    "for i, feature in enumerate(X_top_20.columns):\n",
    "    plt.subplot(5, 4, i + 1)\n",
    "    sns.histplot(X_top_20[feature], kde=True, bins=30)\n",
    "    plt.title(feature, fontsize=10)\n",
    "    plt.xticks(rotation=45)\n",
    "\n",
    "plt.tight_layout()\n",
    "plt.show()"
   ]
  },
  {
   "cell_type": "code",
   "execution_count": null,
   "metadata": {},
   "outputs": [],
   "source": [
    "X_top_20.columns"
   ]
  },
  {
   "cell_type": "code",
   "execution_count": null,
   "metadata": {},
   "outputs": [],
   "source": [
    "binary_features_chi = ['Symptom 1', 'Symptom 2', 'Symptom 3', 'Symptom 4', 'Symptom 5', \n",
    "                   'Genes in mother\\'s side', 'Inherited from father', 'Maternal gene_No', \n",
    "                   'Paternal gene', 'Maternal gene_Yes', 'Blood test result_abnormal', \n",
    "                   'Blood test result_slightly abnormal', 'Blood test result_normal', \n",
    "                   'Gender_Female', 'Gender_Male', 'Birth defects_Singular', \n",
    "                   'H/O substance abuse_Yes']\n",
    "\n",
    "for column in binary_features_chi:\n",
    "    plt.figure(figsize=(10, 6))\n",
    "    sns.countplot(x=X_top_20[column])\n",
    "    plt.title(f'Count of {column}')\n",
    "    plt.show()\n"
   ]
  },
  {
   "cell_type": "code",
   "execution_count": null,
   "metadata": {},
   "outputs": [],
   "source": [
    "#distribution of continuous features\n",
    "continuous_features = ['Patient Age', 'Father\\'s age', 'No. of previous abortion']\n",
    "\n",
    "for column in continuous_features:\n",
    "    plt.figure(figsize=(10, 6))\n",
    "    sns.histplot(X_top_20[column], kde=True)\n",
    "    plt.title(f'Distribution of {column}')\n",
    "    plt.show()\n"
   ]
  },
  {
   "cell_type": "code",
   "execution_count": null,
   "metadata": {},
   "outputs": [],
   "source": [
    "target_variables = ['Genetic Disorder', 'Disorder Subclass']\n",
    "\n",
    "for column in binary_features_chi:\n",
    "    for target in target_variables:\n",
    "        plt.figure(figsize=(10, 6))\n",
    "        sns.countplot(x=X_top_20[column], hue=df1[target])\n",
    "        plt.title(f'{column} by {target}')\n",
    "        plt.show()\n"
   ]
  },
  {
   "cell_type": "code",
   "execution_count": null,
   "metadata": {},
   "outputs": [],
   "source": [
    "#correlation matrix for continuous variables\n",
    "plt.figure(figsize=(14, 10))\n",
    "sns.heatmap(df[continuous_features].corr(), annot=True, cmap='coolwarm')\n",
    "plt.title('Correlation Matrix')\n",
    "plt.show()\n"
   ]
  },
  {
   "cell_type": "code",
   "execution_count": null,
   "metadata": {},
   "outputs": [],
   "source": [
    "# Extract features (X) and target variables (y1 and y2)\n",
    "X = X_top_20\n",
    "y1 = df1['Genetic Disorder']\n",
    "y2 = df1['Disorder Subclass']\n"
   ]
  },
  {
   "cell_type": "code",
   "execution_count": null,
   "metadata": {},
   "outputs": [],
   "source": [
    "from lazypredict.Supervised import LazyClassifier\n",
    "from sklearn.model_selection import train_test_split\n",
    "\n",
    "\n",
    "# Split the data into train and test sets for both target variables\n",
    "X_train1, X_test1, y_train1, y_test1 = train_test_split(X, y1, test_size=0.2, random_state=42, stratify= y1)\n",
    "X_train2, X_test2, y_train2, y_test2 = train_test_split(X, y2, test_size=0.2, random_state=42, stratify= y2)\n",
    "\n",
    "# Initialize LazyClassifier\n",
    "clf = LazyClassifier(verbose=0, ignore_warnings=True, custom_metric=None)\n",
    "\n",
    "# Fit and evaluate models for Genetic Disorder\n",
    "models1, predictions1 = clf.fit(X_train1, X_test1, y_train1, y_test1)\n",
    "print(\"Model performance for Genetic Disorder:\")\n",
    "print(models1)\n",
    "\n",
    "# Fit and evaluate models for Disorder Subclass\n",
    "models2, predictions2 = clf.fit(X_train2, X_test2, y_train2, y_test2)\n",
    "print(\"Model performance for Disorder Subclass:\")\n",
    "print(models2)"
   ]
  },
  {
   "cell_type": "markdown",
   "metadata": {},
   "source": [
    "Test with the top 3 models"
   ]
  },
  {
   "cell_type": "code",
   "execution_count": null,
   "metadata": {},
   "outputs": [],
   "source": [
    "from sklearn.svm import SVC\n",
    "from lightgbm import LGBMClassifier\n",
    "from sklearn.discriminant_analysis import QuadraticDiscriminantAnalysis\n",
    "from sklearn.linear_model import LogisticRegression\n",
    "from sklearn.metrics import accuracy_score, balanced_accuracy_score, f1_score\n"
   ]
  },
  {
   "cell_type": "code",
   "execution_count": null,
   "metadata": {},
   "outputs": [],
   "source": [
    "# Train and Evaluate SVC Model for Genetic Disorder (y1)\n",
    "svc = SVC()\n",
    "svc.fit(X_train1, y_train1)\n",
    "svc_predictions = svc.predict(X_test1)\n",
    "svc_accuracy = accuracy_score(y_test1, svc_predictions)\n",
    "svc_balanced_accuracy = balanced_accuracy_score(y_test1, svc_predictions)\n",
    "svc_f1 = f1_score(y_test1, svc_predictions, average='weighted')\n",
    "\n",
    "print(f\"SVC (Genetic Disorder) - Accuracy: {svc_accuracy}, Balanced Accuracy: {svc_balanced_accuracy}, F1 Score: {svc_f1}\")"
   ]
  },
  {
   "cell_type": "code",
   "execution_count": null,
   "metadata": {},
   "outputs": [],
   "source": [
    "# LightGBM\n",
    "lgbm = LGBMClassifier()\n",
    "lgbm.fit(X_train1, y_train1)\n",
    "lgbm_predictions = lgbm.predict(X_test1)\n",
    "lgbm_accuracy = accuracy_score(y_test1, lgbm_predictions)\n",
    "lgbm_balanced_accuracy = balanced_accuracy_score(y_test1, lgbm_predictions)\n",
    "lgbm_f1 = f1_score(y_test1, lgbm_predictions, average='weighted')\n",
    "\n",
    "print(f\"LGBMClassifier (Genetic Disorder) - Accuracy: {lgbm_accuracy}, Balanced Accuracy: {lgbm_balanced_accuracy}, F1 Score: {lgbm_f1}\")"
   ]
  },
  {
   "cell_type": "code",
   "execution_count": null,
   "metadata": {},
   "outputs": [],
   "source": [
    "# Quadratic Discriminant Analysis\n",
    "qda = QuadraticDiscriminantAnalysis()\n",
    "qda.fit(X_train1, y_train1)\n",
    "qda_predictions = qda.predict(X_test1)\n",
    "qda_accuracy = accuracy_score(y_test1, qda_predictions)\n",
    "qda_balanced_accuracy = balanced_accuracy_score(y_test1, qda_predictions)\n",
    "qda_f1 = f1_score(y_test1, qda_predictions, average='weighted')\n",
    "\n",
    "print(f\"QuadraticDiscriminantAnalysis (Genetic Disorder) - Accuracy: {qda_accuracy}, Balanced Accuracy: {qda_balanced_accuracy}, F1 Score: {qda_f1}\")\n"
   ]
  },
  {
   "cell_type": "code",
   "execution_count": null,
   "metadata": {},
   "outputs": [],
   "source": [
    "# Train and Evaluate Models for Disorder Subclass (y2)\n",
    "\n",
    "# Logistic Regression\n",
    "logreg = LogisticRegression(max_iter=1000)\n",
    "logreg.fit(X_train2, y_train2)\n",
    "logreg_predictions = logreg.predict(X_test2)\n",
    "logreg_accuracy = accuracy_score(y_test2, logreg_predictions)\n",
    "logreg_balanced_accuracy = balanced_accuracy_score(y_test2, logreg_predictions)\n",
    "logreg_f1 = f1_score(y_test2, logreg_predictions, average='weighted')\n",
    "\n",
    "print(f\"LogisticRegression (Disorder Subclass) - Accuracy: {logreg_accuracy}, Balanced Accuracy: {logreg_balanced_accuracy}, F1 Score: {logreg_f1}\")\n",
    "print(\"-----------------------------------------------\")\n",
    "\n",
    "# LightGBM\n",
    "lgbm_subclass = LGBMClassifier()\n",
    "lgbm_subclass.fit(X_train2, y_train2)\n",
    "lgbm_subclass_predictions = lgbm_subclass.predict(X_test2)\n",
    "lgbm_subclass_accuracy = accuracy_score(y_test2, lgbm_subclass_predictions)\n",
    "lgbm_subclass_balanced_accuracy = balanced_accuracy_score(y_test2, lgbm_subclass_predictions)\n",
    "lgbm_subclass_f1 = f1_score(y_test2, lgbm_subclass_predictions, average='weighted')\n",
    "\n",
    "print(f\"LGBMClassifier (Disorder Subclass) - Accuracy: {lgbm_subclass_accuracy}, Balanced Accuracy: {lgbm_subclass_balanced_accuracy}, F1 Score: {lgbm_subclass_f1}\")\n",
    "print(\"-----------------------------------------------\")\n",
    "\n",
    "# Quadratic Discriminant Analysis\n",
    "qda_subclass = QuadraticDiscriminantAnalysis()\n",
    "qda_subclass.fit(X_train2, y_train2)\n",
    "qda_subclass_predictions = qda_subclass.predict(X_test2)\n",
    "qda_subclass_accuracy = accuracy_score(y_test2, qda_subclass_predictions)\n",
    "qda_subclass_balanced_accuracy = balanced_accuracy_score(y_test2, qda_subclass_predictions)\n",
    "qda_subclass_f1 = f1_score(y_test2, qda_subclass_predictions, average='weighted')\n",
    "\n",
    "print(f\"QuadraticDiscriminantAnalysis (Disorder Subclass) - Accuracy: {qda_subclass_accuracy}, Balanced Accuracy: {qda_subclass_balanced_accuracy}, F1 Score: {qda_subclass_f1}\")"
   ]
  },
  {
   "cell_type": "code",
   "execution_count": null,
   "metadata": {},
   "outputs": [],
   "source": [
    "from sklearn.model_selection import GridSearchCV\n",
    "\n",
    "# SVC\n",
    "svc_param_grid = {\n",
    "    'C': [0.1, 1, 10, 100],\n",
    "    'gamma': [1, 0.1, 0.01, 0.001],\n",
    "    'kernel': ['rbf', 'linear']\n",
    "}\n",
    "\n",
    "# LightGBM\n",
    "lgbm_param_grid = {\n",
    "    'num_leaves': [31, 50, 100],\n",
    "    'learning_rate': [0.01, 0.05, 0.1],\n",
    "    'n_estimators': [100, 200, 500]\n",
    "}\n",
    "\n",
    "# Quadratic Discriminant Analysis\n",
    "qda_param_grid = {\n",
    "    'reg_param': [0.0, 0.1, 0.5, 1.0]\n",
    "}\n",
    "\n",
    "# Logistic Regression\n",
    "logreg_param_grid = {\n",
    "    'C': [0.1, 1, 10, 100],\n",
    "    'penalty': ['l2'],\n",
    "    'solver': ['lbfgs', 'liblinear']\n",
    "}\n",
    "\n",
    "\n",
    "\n",
    "\n"
   ]
  },
  {
   "cell_type": "markdown",
   "metadata": {},
   "source": [
    "For genetic Disorder Hyperparameter Tuning"
   ]
  },
  {
   "cell_type": "code",
   "execution_count": null,
   "metadata": {},
   "outputs": [],
   "source": [
    "## taking so much time to run \n",
    "\n",
    "# For Genetic Disorder\n",
    "# svc = SVC()\n",
    "# svc_grid_search = GridSearchCV(svc, svc_param_grid, cv=5, scoring='accuracy')\n",
    "# svc_grid_search.fit(X_train1, y_train1)\n",
    "\n",
    "# # Print the best parameters and scores\n",
    "# print(\"Best parameters for SVC:\", svc_grid_search.best_params_)\n",
    "# print(\"Best score for SVC:\", svc_grid_search.best_score_)"
   ]
  },
  {
   "cell_type": "markdown",
   "metadata": {},
   "source": [
    "LGBM for Train data"
   ]
  },
  {
   "cell_type": "code",
   "execution_count": null,
   "metadata": {},
   "outputs": [],
   "source": [
    "lgbm = LGBMClassifier()\n",
    "lgbm_grid_search = GridSearchCV(lgbm, lgbm_param_grid, cv=5, scoring='accuracy')\n",
    "lgbm_grid_search.fit(X_train1, y_train1)\n",
    "\n",
    "print(\"Best parameters for LGBMClassifier:\", lgbm_grid_search.best_params_)\n",
    "print(\"Best score for LGBMClassifier:\", lgbm_grid_search.best_score_)"
   ]
  },
  {
   "cell_type": "markdown",
   "metadata": {},
   "source": [
    "##### For lgbm the accuracy for train dataset\n",
    " - Best parameters for LGBMClassifier: {'learning_rate': 0.01, 'n_estimators': 500, 'num_leaves': 31}\n",
    " - Best score for LGBMClassifier: 0.592435931633543\n",
    " "
   ]
  },
  {
   "cell_type": "code",
   "execution_count": null,
   "metadata": {},
   "outputs": [],
   "source": [
    "# for test dataset lgbm\n",
    "lgbm_grid_search = GridSearchCV(lgbm, lgbm_param_grid, cv=5, scoring='accuracy')\n",
    "lgbm_grid_search.fit(X_test1, y_test1)\n",
    "\n",
    "print(\"Best parameters for LGBMClassifier:\", lgbm_grid_search.best_params_)\n",
    "print(\"Best score for LGBMClassifier:\", lgbm_grid_search.best_score_)\n"
   ]
  },
  {
   "cell_type": "markdown",
   "metadata": {},
   "source": [
    "## using the best paramaters for hyperparamter tuning that we got.\n"
   ]
  },
  {
   "cell_type": "code",
   "execution_count": null,
   "metadata": {},
   "outputs": [],
   "source": [
    "# Best parameters for LGBMClassifier: {'learning_rate': 0.01, 'n_estimators': 500, 'num_leaves': 31}\n",
    "# Best score for LGBMClassifier: 0.592435931633543 on USING GridSearch cv\n",
    "    \n",
    "# Best parameters found from GridSearchCV\n",
    "lgbm_best_params = {\n",
    "    'num_leaves': 31,\n",
    "    'learning_rate': 0.01,\n",
    "    'n_estimators': 500\n",
    "}\n",
    "\n",
    "# Train the final model on the entire training set with the best parameters\n",
    "final_lgbm = LGBMClassifier(**lgbm_best_params)\n",
    "final_lgbm.fit(X_train1, y_train1)\n",
    "train_accuracy = final_lgbm.score(X_train1, y_train1)\n",
    "print(\"Train accuracy for LGBMClassifier with best parameters:\", train_accuracy)\n",
    "\n",
    "# Evaluate the model on the test set\n",
    "test_accuracy = final_lgbm.score(X_test1, y_test1)\n",
    "print(\"Test accuracy for LGBMClassifier with best parameters:\", test_accuracy)\n",
    "\n"
   ]
  },
  {
   "cell_type": "markdown",
   "metadata": {},
   "source": [
    "#### Using LGBM classifier we got 66% on training data and 60% on testing data"
   ]
  },
  {
   "cell_type": "markdown",
   "metadata": {},
   "source": [
    "#### Test with Quadratic Discriminant Analysis for y1(gentic Disorder)"
   ]
  },
  {
   "cell_type": "code",
   "execution_count": null,
   "metadata": {},
   "outputs": [],
   "source": [
    "qda = QuadraticDiscriminantAnalysis()\n",
    "qda_grid_search = GridSearchCV(qda, qda_param_grid, cv=5, scoring='accuracy')\n",
    "qda_grid_search.fit(X_train1, y_train1)\n",
    "\n",
    "print(\"Best parameters for QuadraticDiscriminantAnalysis:\", qda_grid_search.best_params_)\n",
    "print(\"Best score for QuadraticDiscriminantAnalysis:\", qda_grid_search.best_score_)"
   ]
  },
  {
   "cell_type": "code",
   "execution_count": null,
   "metadata": {},
   "outputs": [],
   "source": [
    "#best paramater for QDA is reg_param:0\n",
    "# test te accuracy\n",
    "# Quadratic Discriminant Analysis\n",
    "\n",
    "qda_best_param_grid = {\n",
    "    'reg_param':0.0\n",
    "}\n",
    "\n",
    "# Train the final model on the entire training set with the best parameters\n",
    "final_qda = QuadraticDiscriminantAnalysis(**qda_best_param_grid)\n",
    "final_qda.fit(X_train1, y_train1)\n",
    "train_accuracy = final_qda.score(X_train1, y_train1)\n",
    "print(\"Train accuracy for QDA with best parameters:\", train_accuracy)\n",
    "\n",
    "# Evaluate the model on the test set\n",
    "test_accuracy = final_qda.score(X_test1, y_test1)\n",
    "print(\"Test accuracy for QDA with best parameters:\", test_accuracy)\n"
   ]
  },
  {
   "cell_type": "markdown",
   "metadata": {},
   "source": [
    "#### QDA got the all most equal accuracy of 60.6% on train dataset and 59.1% on test dataset"
   ]
  },
  {
   "cell_type": "markdown",
   "metadata": {},
   "source": [
    "### Now with disorder subclass"
   ]
  },
  {
   "cell_type": "code",
   "execution_count": null,
   "metadata": {},
   "outputs": [],
   "source": [
    "#check with logistic regression\n",
    "\n",
    "logreg = LogisticRegression()\n",
    "logreg_grid_search = GridSearchCV(logreg, logreg_param_grid, cv=5, scoring='accuracy')\n",
    "logreg_grid_search.fit(X_train2, y_train2)\n",
    "\n",
    "print(\"Best parameters for LogisticRegression:\", logreg_grid_search.best_params_)\n",
    "print(\"Best score for LogisticRegression:\", logreg_grid_search.best_score_)"
   ]
  },
  {
   "cell_type": "code",
   "execution_count": null,
   "metadata": {},
   "outputs": [],
   "source": [
    "# Now try with best paramaters for logistic regression\n",
    "\n",
    "logreg_best_param_grid = {\n",
    "    'C': 100, \n",
    "    'penalty': 'l2', \n",
    "    'solver': 'liblinear'\n",
    "}\n",
    "\n",
    "# Train the final model on the entire training set with the best parameters\n",
    "final_logreg = LogisticRegression(**logreg_best_param_grid)\n",
    "final_logreg.fit(X_train2, y_train2)\n",
    "train_accuracy = final_logreg.score(X_train2, y_train2)\n",
    "print(\"Train accuracy for Logistic Regression with best parameters:\", train_accuracy)\n",
    "\n",
    "# Evaluate the model on the test set\n",
    "test_accuracy = final_logreg.score(X_test2, y_test2)\n",
    "print(\"Test accuracy for Logistic Regression with best parameters:\", test_accuracy)"
   ]
  },
  {
   "cell_type": "markdown",
   "metadata": {},
   "source": [
    "#### Logistic Regression got the  accuracy of 40.2% on train dataset and 38.6% on test dataset"
   ]
  },
  {
   "cell_type": "markdown",
   "metadata": {},
   "source": [
    "Trying with QDA"
   ]
  },
  {
   "cell_type": "code",
   "execution_count": null,
   "metadata": {},
   "outputs": [],
   "source": [
    "qda_grid_search_subclass = GridSearchCV(qda, qda_param_grid, cv=5, scoring='accuracy')\n",
    "qda_grid_search_subclass.fit(X_train2, y_train2)\n",
    "\n",
    "print(\"Best parameters for QDA (Disorder Subclass):\", qda_grid_search_subclass.best_params_)\n",
    "print(\"Best score for QDA (Disorder Subclass):\", qda_grid_search_subclass.best_score_)"
   ]
  },
  {
   "cell_type": "code",
   "execution_count": null,
   "metadata": {},
   "outputs": [],
   "source": [
    "qda_best_param_grid = {\n",
    "    'reg_param':0.1\n",
    "}\n",
    "\n",
    "# Train the final model on the entire training set with the best parameters\n",
    "final_qda = QuadraticDiscriminantAnalysis(**qda_best_param_grid)\n",
    "final_qda.fit(X_train2, y_train2)\n",
    "train_accuracy = final_qda.score(X_train2, y_train2)\n",
    "print(\"Train accuracy for QDA(Disorder Subclass) :\", train_accuracy)\n",
    "\n",
    "# Evaluate the model on the test set\n",
    "test_accuracy = final_qda.score(X_test2, y_test2)\n",
    "print(\"Test accuracy for QDA(Disorder Subclass):\", test_accuracy)\n"
   ]
  },
  {
   "cell_type": "markdown",
   "metadata": {},
   "source": [
    "#### QDA got the  accuracy of 44.0% on train dataset and 38.8% on test dataset"
   ]
  },
  {
   "cell_type": "markdown",
   "metadata": {},
   "source": [
    "Trying with LGBM"
   ]
  },
  {
   "cell_type": "code",
   "execution_count": null,
   "metadata": {},
   "outputs": [],
   "source": [
    "# Taking so much time I have tried few times and stopped the execution of this cell \n",
    "\n",
    "# lgbm_grid_search_subclass = GridSearchCV(lgbm, lgbm_param_grid, cv=5, scoring='accuracy')\n",
    "# lgbm_grid_search_subclass.fit(X_train2, y_train2)\n",
    "\n",
    "# print(\"Best parameters for LGBM (Disorder Subclass):\", lgbm_grid_search_subclass.best_params_)\n",
    "# print(\"Best score for LGBM (Disorder Subclass):\", lgbm_grid_search_subclass.best_score_)"
   ]
  },
  {
   "cell_type": "markdown",
   "metadata": {},
   "source": [
    "Trying with linear Discriment Model for Disorder Subclass"
   ]
  },
  {
   "cell_type": "code",
   "execution_count": null,
   "metadata": {},
   "outputs": [],
   "source": [
    "from sklearn.discriminant_analysis import LinearDiscriminantAnalysis\n",
    "\n",
    "lda = LinearDiscriminantAnalysis()\n",
    "lda.fit(X_train2, y_train2)\n",
    "lda_predictions = lda.predict(X_test2)\n",
    "lda_accuracy = accuracy_score(y_test2, lda_predictions)\n",
    "lda_balanced_accuracy = balanced_accuracy_score(y_test2, lda_predictions)\n",
    "lda_f1 = f1_score(y_test2, lda_predictions, average='weighted')\n",
    "\n",
    "print(f\"LDA (Disorder Subclass) - Accuracy: {lda_accuracy}, Balanced Accuracy: {lda_balanced_accuracy}, F1 Score: {lda_f1}\")\n"
   ]
  },
  {
   "cell_type": "markdown",
   "metadata": {},
   "source": [
    "LDA Hyperparamater Tuning"
   ]
  },
  {
   "cell_type": "code",
   "execution_count": null,
   "metadata": {},
   "outputs": [],
   "source": [
    "# Define the parameter grid for GridSearchCV\n",
    "param_grid = {\n",
    "    'solver': ['svd', 'lsqr', 'eigen']\n",
    "}\n",
    "\n",
    "# Initialize the LDA model\n",
    "lda = LinearDiscriminantAnalysis()\n",
    "\n",
    "# Initialize GridSearchCV with 5-fold cross-validation\n",
    "grid_search = GridSearchCV(estimator=lda, param_grid=param_grid, cv=5, scoring='accuracy', n_jobs=-1)\n",
    "\n",
    "# Fit GridSearchCV\n",
    "grid_search.fit(X_train2, y_train2)\n",
    "\n",
    "# Get the best model\n",
    "best_lda = grid_search.best_estimator_\n",
    "\n",
    "# Evaluate the best model\n",
    "best_lda_predictions = best_lda.predict(X_test2)\n",
    "best_lda_accuracy = accuracy_score(y_test2, best_lda_predictions)\n",
    "best_lda_balanced_accuracy = balanced_accuracy_score(y_test2, best_lda_predictions)\n",
    "best_lda_f1 = f1_score(y_test2, best_lda_predictions, average='weighted')\n",
    "\n",
    "print(f\"Best LDA (Disorder Subclass) - Accuracy: {best_lda_accuracy}, Balanced Accuracy: {best_lda_balanced_accuracy}, F1 Score: {best_lda_f1}\")\n",
    "print(f\"Best Parameters: {grid_search.best_params_}\")\n"
   ]
  },
  {
   "cell_type": "code",
   "execution_count": null,
   "metadata": {},
   "outputs": [],
   "source": [
    "lda_best_param_grid = {\n",
    "    'solver': 'lsqr'\n",
    "}\n",
    "\n",
    "# Train the final model on the entire training set with the best parameters\n",
    "final_lda = LinearDiscriminantAnalysis(**lda_best_param_grid)\n",
    "final_lda.fit(X_train2, y_train2)\n",
    "train_accuracy = final_lda.score(X_train2, y_train2)\n",
    "print(\"Train accuracy for LDA(Disorder Subclass) :\", train_accuracy)\n",
    "\n",
    "# Evaluate the model on the test set\n",
    "test_accuracy = final_lda.score(X_test2, y_test2)\n",
    "print(\"Test accuracy for LDA(Disorder Subclass):\", test_accuracy)\n"
   ]
  },
  {
   "cell_type": "code",
   "execution_count": null,
   "metadata": {},
   "outputs": [],
   "source": [
    "# for Genetic Disorder\n",
    "genetic_disorder_results = {\n",
    "    'Model': ['LGBMClassifier', 'QuadraticDiscriminantAnalysis'],\n",
    "    'Target Variable': ['Genetic Disorder', 'Genetic Disorder'],\n",
    "    'Train Accuracy': ['66%', '60%'],\n",
    "    'Test Accuracy': ['60%', '59%']\n",
    "}\n",
    "\n",
    "# for Disorder Subclass\n",
    "disorder_subclass_results = {\n",
    "    'Model': ['QuadraticDiscriminantAnalysis','LinearDiscriminantAnalysis', 'LogisticRegression'],\n",
    "    'Target Variable': ['Disorder Subclass', 'Disorder Subclass', 'Disorder Subclass'],\n",
    "    'Train Accuracy': ['44%', '42%', '40%'],\n",
    "    'Test Accuracy': ['38%', '41%', '39%']\n",
    "}\n",
    "\n",
    "# Create DataFrames\n",
    "genetic_disorder_df = pd.DataFrame(genetic_disorder_results)\n",
    "disorder_subclass_df = pd.DataFrame(disorder_subclass_results)\n",
    "\n",
    "# Combine DataFrames\n",
    "combined_results_df = pd.concat([genetic_disorder_df, disorder_subclass_df], ignore_index=True)\n",
    "\n",
    "# Save to CSV\n",
    "combined_results_df.to_csv('model_results.csv', index=False)\n",
    "\n",
    "\n",
    "print(\"Results have been saved to 'model_results.csv'\")\n"
   ]
  },
  {
   "cell_type": "markdown",
   "metadata": {},
   "source": [
    "Summary"
   ]
  },
  {
   "cell_type": "markdown",
   "metadata": {},
   "source": [
    "# Final Model Selection\n",
    "\n",
    "## Genetic Disorder\n",
    "**Selected Model:** LGBMClassifier  \n",
    "**Training Accuracy:** 66%  \n",
    "**Testing Accuracy:** 60%\n",
    "\n",
    "## Disorder Subclass\n",
    "**Selected Model:** Quadratic Discriminant Analysis (QDA)  \n",
    "**Training Accuracy:** 44%  \n",
    "**Testing Accuracy:** 38.8%\n",
    "\n",
    "## Conclusion\n",
    "The LGBMClassifier and QDA models were chosen based on their performance on training and testing datasets. These models will be used for deployment.\n"
   ]
  }
 ],
 "metadata": {
  "kernelspec": {
   "display_name": "Python 3",
   "language": "python",
   "name": "python3"
  },
  "language_info": {
   "codemirror_mode": {
    "name": "ipython",
    "version": 3
   },
   "file_extension": ".py",
   "mimetype": "text/x-python",
   "name": "python",
   "nbconvert_exporter": "python",
   "pygments_lexer": "ipython3",
   "version": "3.10.13"
  }
 },
 "nbformat": 4,
 "nbformat_minor": 2
}
